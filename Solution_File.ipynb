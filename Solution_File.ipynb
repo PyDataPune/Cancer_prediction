{
 "cells": [
  {
   "cell_type": "markdown",
   "metadata": {},
   "source": [
    "<p style=\"font-size:34px;text-align:center\"> <b>Cancer Prediction</b> </p>"
   ]
  },
  {
   "cell_type": "markdown",
   "metadata": {},
   "source": [
    "<h1>Problem Statement</h1>"
   ]
  },
  {
   "cell_type": "markdown",
   "metadata": {},
   "source": [
    "Classify the given genetic variations/mutations based on evidence from text-based Data."
   ]
  },
  {
   "cell_type": "markdown",
   "metadata": {},
   "source": [
    "<h2>Real-world objectives</h2>"
   ]
  },
  {
   "cell_type": "markdown",
   "metadata": {},
   "source": [
    "- We have two data files: one conatins the information about the genetic mutations and the other contains the clinical data (text) that  human experts/pathologists use to classify the genetic mutations. \n",
    "- Both these data files are have a common column called ID\n",
    "- <p> \n",
    "    Data file's information:\n",
    "    <ul> \n",
    "        <li>\n",
    "        training_variants (ID , Gene, Variations, Class)\n",
    "        </li>\n",
    "        <li>\n",
    "        training_text (ID, Text)\n",
    "        </li>\n",
    "    </ul>\n",
    "</p>"
   ]
  },
  {
   "cell_type": "markdown",
   "metadata": {},
   "source": [
    "<h1>File descriptions</h1>"
   ]
  },
  {
   "cell_type": "markdown",
   "metadata": {},
   "source": [
    "<li><b>training_variants</b> - a comma separated file containing the description of the genetic mutations used for training. Fields are <b>ID</b> (the id of the row used to link the mutation to the clinical evidence), <b>Gene</b> (the gene where this genetic mutation is located), <b>Variation</b> (the aminoacid change for this mutations), <b>Class</b> (1-9 the class this genetic mutation has been classified on)</li>"
   ]
  },
  {
   "cell_type": "markdown",
   "metadata": {},
   "source": [
    "<li><b>training_text</b> - a double pipe (||) delimited file that contains the clinical evidence (text) used to classify genetic mutations.\n",
    "Fields are <b>ID</b> (the id of the row used to link the clinical evidence to the genetic mutation), <b>Text</b> (the clinical evidence used to classify the genetic mutation)</li>"
   ]
  },
  {
   "cell_type": "markdown",
   "metadata": {},
   "source": [
    "<h3> Machine Learning Objective </h3>"
   ]
  },
  {
   "cell_type": "markdown",
   "metadata": {},
   "source": [
    "<p> Objective: Predict the probability of each data-point belonging to each of the nine classes. </p>"
   ]
  },
  {
   "cell_type": "markdown",
   "metadata": {},
   "source": [
    "<h1>Performance Metric</h1>"
   ]
  },
  {
   "cell_type": "markdown",
   "metadata": {},
   "source": [
    "* Multi class log-loss"
   ]
  },
  {
   "cell_type": "markdown",
   "metadata": {},
   "source": [
    "<h1> Importing Libraries</h1>"
   ]
  },
  {
   "cell_type": "code",
   "execution_count": 1,
   "metadata": {},
   "outputs": [],
   "source": [
    "import pandas as pd\n",
    "import matplotlib.pyplot as plt\n",
    "import re\n",
    "import time\n",
    "import warnings\n",
    "import numpy as np\n",
    "from nltk.corpus import stopwords\n",
    "from sklearn.decomposition import TruncatedSVD\n",
    "from sklearn.preprocessing import normalize\n",
    "from sklearn.feature_extraction.text import CountVectorizer\n",
    "from sklearn.manifold import TSNE\n",
    "import seaborn as sns\n",
    "from sklearn.neighbors import KNeighborsClassifier\n",
    "from sklearn.metrics import confusion_matrix\n",
    "from sklearn.metrics.classification import accuracy_score, log_loss\n",
    "from sklearn.feature_extraction.text import TfidfVectorizer\n",
    "from sklearn.linear_model import SGDClassifier\n",
    "from collections import Counter\n",
    "from scipy.sparse import hstack\n",
    "from sklearn.multiclass import OneVsRestClassifier\n",
    "from sklearn.svm import SVC\n",
    "from sklearn.model_selection import StratifiedKFold \n",
    "from collections import Counter, defaultdict\n",
    "from sklearn.calibration import CalibratedClassifierCV\n",
    "from sklearn.naive_bayes import MultinomialNB\n",
    "from sklearn.naive_bayes import GaussianNB\n",
    "from sklearn.model_selection import train_test_split\n",
    "from sklearn.model_selection import GridSearchCV\n",
    "import math\n",
    "from sklearn.metrics import normalized_mutual_info_score\n",
    "from sklearn.ensemble import RandomForestClassifier\n",
    "warnings.filterwarnings(\"ignore\")\n",
    "from mlxtend.classifier import StackingClassifier\n",
    "from sklearn import model_selection\n",
    "from sklearn.linear_model import LogisticRegression"
   ]
  },
  {
   "cell_type": "markdown",
   "metadata": {},
   "source": [
    "<h3> Reading Gene and Variation Data </h3>"
   ]
  },
  {
   "cell_type": "code",
   "execution_count": 2,
   "metadata": {},
   "outputs": [
    {
     "name": "stdout",
     "output_type": "stream",
     "text": [
      "Number of data points :  3321\n",
      "Number of features :  4\n",
      "Features :  ['ID' 'Gene' 'Variation' 'Class']\n"
     ]
    },
    {
     "data": {
      "text/html": [
       "<div>\n",
       "<style scoped>\n",
       "    .dataframe tbody tr th:only-of-type {\n",
       "        vertical-align: middle;\n",
       "    }\n",
       "\n",
       "    .dataframe tbody tr th {\n",
       "        vertical-align: top;\n",
       "    }\n",
       "\n",
       "    .dataframe thead th {\n",
       "        text-align: right;\n",
       "    }\n",
       "</style>\n",
       "<table border=\"1\" class=\"dataframe\">\n",
       "  <thead>\n",
       "    <tr style=\"text-align: right;\">\n",
       "      <th></th>\n",
       "      <th>ID</th>\n",
       "      <th>Gene</th>\n",
       "      <th>Variation</th>\n",
       "      <th>Class</th>\n",
       "    </tr>\n",
       "  </thead>\n",
       "  <tbody>\n",
       "    <tr>\n",
       "      <th>0</th>\n",
       "      <td>0</td>\n",
       "      <td>FAM58A</td>\n",
       "      <td>Truncating Mutations</td>\n",
       "      <td>1</td>\n",
       "    </tr>\n",
       "    <tr>\n",
       "      <th>1</th>\n",
       "      <td>1</td>\n",
       "      <td>CBL</td>\n",
       "      <td>W802*</td>\n",
       "      <td>2</td>\n",
       "    </tr>\n",
       "    <tr>\n",
       "      <th>2</th>\n",
       "      <td>2</td>\n",
       "      <td>CBL</td>\n",
       "      <td>Q249E</td>\n",
       "      <td>2</td>\n",
       "    </tr>\n",
       "    <tr>\n",
       "      <th>3</th>\n",
       "      <td>3</td>\n",
       "      <td>CBL</td>\n",
       "      <td>N454D</td>\n",
       "      <td>3</td>\n",
       "    </tr>\n",
       "    <tr>\n",
       "      <th>4</th>\n",
       "      <td>4</td>\n",
       "      <td>CBL</td>\n",
       "      <td>L399V</td>\n",
       "      <td>4</td>\n",
       "    </tr>\n",
       "  </tbody>\n",
       "</table>\n",
       "</div>"
      ],
      "text/plain": [
       "   ID    Gene             Variation  Class\n",
       "0   0  FAM58A  Truncating Mutations      1\n",
       "1   1     CBL                 W802*      2\n",
       "2   2     CBL                 Q249E      2\n",
       "3   3     CBL                 N454D      3\n",
       "4   4     CBL                 L399V      4"
      ]
     },
     "execution_count": 2,
     "metadata": {},
     "output_type": "execute_result"
    }
   ],
   "source": [
    "df_train_var = pd.read_csv('./training_variants')\n",
    "print('Number of data points : ', df_train_var.shape[0])\n",
    "print('Number of features : ', df_train_var.shape[1])\n",
    "print('Features : ', df_train_var.columns.values)\n",
    "df_train_var.head()"
   ]
  },
  {
   "cell_type": "code",
   "execution_count": 3,
   "metadata": {},
   "outputs": [
    {
     "name": "stdout",
     "output_type": "stream",
     "text": [
      "Number of data points :  3321\n",
      "Number of features :  2\n",
      "Features :  ['ID' 'TEXT']\n"
     ]
    },
    {
     "data": {
      "text/html": [
       "<div>\n",
       "<style scoped>\n",
       "    .dataframe tbody tr th:only-of-type {\n",
       "        vertical-align: middle;\n",
       "    }\n",
       "\n",
       "    .dataframe tbody tr th {\n",
       "        vertical-align: top;\n",
       "    }\n",
       "\n",
       "    .dataframe thead th {\n",
       "        text-align: right;\n",
       "    }\n",
       "</style>\n",
       "<table border=\"1\" class=\"dataframe\">\n",
       "  <thead>\n",
       "    <tr style=\"text-align: right;\">\n",
       "      <th></th>\n",
       "      <th>ID</th>\n",
       "      <th>TEXT</th>\n",
       "    </tr>\n",
       "  </thead>\n",
       "  <tbody>\n",
       "    <tr>\n",
       "      <th>0</th>\n",
       "      <td>0</td>\n",
       "      <td>Cyclin-dependent kinases (CDKs) regulate a var...</td>\n",
       "    </tr>\n",
       "    <tr>\n",
       "      <th>1</th>\n",
       "      <td>1</td>\n",
       "      <td>Abstract Background  Non-small cell lung canc...</td>\n",
       "    </tr>\n",
       "    <tr>\n",
       "      <th>2</th>\n",
       "      <td>2</td>\n",
       "      <td>Abstract Background  Non-small cell lung canc...</td>\n",
       "    </tr>\n",
       "    <tr>\n",
       "      <th>3</th>\n",
       "      <td>3</td>\n",
       "      <td>Recent evidence has demonstrated that acquired...</td>\n",
       "    </tr>\n",
       "    <tr>\n",
       "      <th>4</th>\n",
       "      <td>4</td>\n",
       "      <td>Oncogenic mutations in the monomeric Casitas B...</td>\n",
       "    </tr>\n",
       "  </tbody>\n",
       "</table>\n",
       "</div>"
      ],
      "text/plain": [
       "   ID                                               TEXT\n",
       "0   0  Cyclin-dependent kinases (CDKs) regulate a var...\n",
       "1   1   Abstract Background  Non-small cell lung canc...\n",
       "2   2   Abstract Background  Non-small cell lung canc...\n",
       "3   3  Recent evidence has demonstrated that acquired...\n",
       "4   4  Oncogenic mutations in the monomeric Casitas B..."
      ]
     },
     "execution_count": 3,
     "metadata": {},
     "output_type": "execute_result"
    }
   ],
   "source": [
    "df_train_txt = pd.read_csv(\"./training_text\",sep=\"\\|\\|\",engine=\"python\",names=[\"ID\",\"TEXT\"],skiprows=1)\n",
    "print('Number of data points : ', df_train_txt.shape[0])\n",
    "print('Number of features : ', df_train_txt.shape[1])\n",
    "print('Features : ', df_train_txt.columns.values)\n",
    "df_train_txt.head()"
   ]
  },
  {
   "cell_type": "markdown",
   "metadata": {},
   "source": [
    "<h3> Preprocessing of text </h3>"
   ]
  },
  {
   "cell_type": "code",
   "execution_count": 4,
   "metadata": {},
   "outputs": [],
   "source": [
    "stop_words = set(stopwords.words('english'))\n",
    "\n",
    "def nlp_preprocessing(total_text, index, column):\n",
    "    if type(total_text) is not int:\n",
    "        string = \"\"\n",
    "        # replace every special char with space\n",
    "        total_text = re.sub('[^a-zA-Z0-9\\n]', ' ', total_text)\n",
    "        # replace multiple spaces with single space\n",
    "        total_text = re.sub('\\s+',' ', total_text)\n",
    "        # converting all the chars into lower-case.\n",
    "        total_text = total_text.lower()\n",
    "        \n",
    "        for word in total_text.split():\n",
    "        # if the word is a not a stop word then retain that word from the data\n",
    "            if not word in stop_words:\n",
    "                string += word + \" \"\n",
    "        \n",
    "        df_train_txt[column][index] = string"
   ]
  },
  {
   "cell_type": "code",
   "execution_count": 5,
   "metadata": {},
   "outputs": [
    {
     "name": "stdout",
     "output_type": "stream",
     "text": [
      "There is no text description for id:  1109\n",
      "There is no text description for id:  1277\n",
      "There is no text description for id:  1407\n",
      "There is no text description for id:  1639\n",
      "There is no text description for id:  2755\n"
     ]
    }
   ],
   "source": [
    "#text processing on train data.\n",
    "for index, row in df_train_txt.iterrows():\n",
    "    if type(row['TEXT']) is str:\n",
    "        nlp_preprocessing(row['TEXT'], index, 'TEXT')\n",
    "    else:\n",
    "        print(\"There is no text description for id: \",index)"
   ]
  },
  {
   "cell_type": "code",
   "execution_count": 6,
   "metadata": {},
   "outputs": [
    {
     "data": {
      "text/html": [
       "<div>\n",
       "<style scoped>\n",
       "    .dataframe tbody tr th:only-of-type {\n",
       "        vertical-align: middle;\n",
       "    }\n",
       "\n",
       "    .dataframe tbody tr th {\n",
       "        vertical-align: top;\n",
       "    }\n",
       "\n",
       "    .dataframe thead th {\n",
       "        text-align: right;\n",
       "    }\n",
       "</style>\n",
       "<table border=\"1\" class=\"dataframe\">\n",
       "  <thead>\n",
       "    <tr style=\"text-align: right;\">\n",
       "      <th></th>\n",
       "      <th>ID</th>\n",
       "      <th>Gene</th>\n",
       "      <th>Variation</th>\n",
       "      <th>Class</th>\n",
       "      <th>TEXT</th>\n",
       "    </tr>\n",
       "  </thead>\n",
       "  <tbody>\n",
       "    <tr>\n",
       "      <th>0</th>\n",
       "      <td>0</td>\n",
       "      <td>FAM58A</td>\n",
       "      <td>Truncating Mutations</td>\n",
       "      <td>1</td>\n",
       "      <td>cyclin dependent kinases cdks regulate variety...</td>\n",
       "    </tr>\n",
       "    <tr>\n",
       "      <th>1</th>\n",
       "      <td>1</td>\n",
       "      <td>CBL</td>\n",
       "      <td>W802*</td>\n",
       "      <td>2</td>\n",
       "      <td>abstract background non small cell lung cancer...</td>\n",
       "    </tr>\n",
       "    <tr>\n",
       "      <th>2</th>\n",
       "      <td>2</td>\n",
       "      <td>CBL</td>\n",
       "      <td>Q249E</td>\n",
       "      <td>2</td>\n",
       "      <td>abstract background non small cell lung cancer...</td>\n",
       "    </tr>\n",
       "    <tr>\n",
       "      <th>3</th>\n",
       "      <td>3</td>\n",
       "      <td>CBL</td>\n",
       "      <td>N454D</td>\n",
       "      <td>3</td>\n",
       "      <td>recent evidence demonstrated acquired uniparen...</td>\n",
       "    </tr>\n",
       "    <tr>\n",
       "      <th>4</th>\n",
       "      <td>4</td>\n",
       "      <td>CBL</td>\n",
       "      <td>L399V</td>\n",
       "      <td>4</td>\n",
       "      <td>oncogenic mutations monomeric casitas b lineag...</td>\n",
       "    </tr>\n",
       "  </tbody>\n",
       "</table>\n",
       "</div>"
      ],
      "text/plain": [
       "   ID    Gene             Variation  Class  \\\n",
       "0   0  FAM58A  Truncating Mutations      1   \n",
       "1   1     CBL                 W802*      2   \n",
       "2   2     CBL                 Q249E      2   \n",
       "3   3     CBL                 N454D      3   \n",
       "4   4     CBL                 L399V      4   \n",
       "\n",
       "                                                TEXT  \n",
       "0  cyclin dependent kinases cdks regulate variety...  \n",
       "1  abstract background non small cell lung cancer...  \n",
       "2  abstract background non small cell lung cancer...  \n",
       "3  recent evidence demonstrated acquired uniparen...  \n",
       "4  oncogenic mutations monomeric casitas b lineag...  "
      ]
     },
     "execution_count": 6,
     "metadata": {},
     "output_type": "execute_result"
    }
   ],
   "source": [
    "train_main_data = pd.merge(df_train_var, df_train_txt, on='ID', how='left')\n",
    "train_main_data.head()"
   ]
  },
  {
   "cell_type": "code",
   "execution_count": 7,
   "metadata": {},
   "outputs": [
    {
     "data": {
      "text/html": [
       "<div>\n",
       "<style scoped>\n",
       "    .dataframe tbody tr th:only-of-type {\n",
       "        vertical-align: middle;\n",
       "    }\n",
       "\n",
       "    .dataframe tbody tr th {\n",
       "        vertical-align: top;\n",
       "    }\n",
       "\n",
       "    .dataframe thead th {\n",
       "        text-align: right;\n",
       "    }\n",
       "</style>\n",
       "<table border=\"1\" class=\"dataframe\">\n",
       "  <thead>\n",
       "    <tr style=\"text-align: right;\">\n",
       "      <th></th>\n",
       "      <th>ID</th>\n",
       "      <th>Gene</th>\n",
       "      <th>Variation</th>\n",
       "      <th>Class</th>\n",
       "      <th>TEXT</th>\n",
       "    </tr>\n",
       "  </thead>\n",
       "  <tbody>\n",
       "    <tr>\n",
       "      <th>1109</th>\n",
       "      <td>1109</td>\n",
       "      <td>FANCA</td>\n",
       "      <td>S1088F</td>\n",
       "      <td>1</td>\n",
       "      <td>NaN</td>\n",
       "    </tr>\n",
       "    <tr>\n",
       "      <th>1277</th>\n",
       "      <td>1277</td>\n",
       "      <td>ARID5B</td>\n",
       "      <td>Truncating Mutations</td>\n",
       "      <td>1</td>\n",
       "      <td>NaN</td>\n",
       "    </tr>\n",
       "    <tr>\n",
       "      <th>1407</th>\n",
       "      <td>1407</td>\n",
       "      <td>FGFR3</td>\n",
       "      <td>K508M</td>\n",
       "      <td>6</td>\n",
       "      <td>NaN</td>\n",
       "    </tr>\n",
       "    <tr>\n",
       "      <th>1639</th>\n",
       "      <td>1639</td>\n",
       "      <td>FLT1</td>\n",
       "      <td>Amplification</td>\n",
       "      <td>6</td>\n",
       "      <td>NaN</td>\n",
       "    </tr>\n",
       "    <tr>\n",
       "      <th>2755</th>\n",
       "      <td>2755</td>\n",
       "      <td>BRAF</td>\n",
       "      <td>G596C</td>\n",
       "      <td>7</td>\n",
       "      <td>NaN</td>\n",
       "    </tr>\n",
       "  </tbody>\n",
       "</table>\n",
       "</div>"
      ],
      "text/plain": [
       "        ID    Gene             Variation  Class TEXT\n",
       "1109  1109   FANCA                S1088F      1  NaN\n",
       "1277  1277  ARID5B  Truncating Mutations      1  NaN\n",
       "1407  1407   FGFR3                 K508M      6  NaN\n",
       "1639  1639    FLT1         Amplification      6  NaN\n",
       "2755  2755    BRAF                 G596C      7  NaN"
      ]
     },
     "execution_count": 7,
     "metadata": {},
     "output_type": "execute_result"
    }
   ],
   "source": [
    "# checking for null values if any\n",
    "\n",
    "train_main_data[train_main_data.isnull().any(axis=1)]"
   ]
  },
  {
   "cell_type": "code",
   "execution_count": 8,
   "metadata": {},
   "outputs": [],
   "source": [
    "# Replacing the NaN values of text with the combination of gene & variation\n",
    "train_main_data.loc[train_main_data['TEXT'].isnull(), 'TEXT'] = train_main_data['Gene'] + ' ' + train_main_data['Variation']"
   ]
  },
  {
   "cell_type": "markdown",
   "metadata": {},
   "source": [
    "<h3> Splitting data into train, test and cross validation (64:20:16) </h3>"
   ]
  },
  {
   "cell_type": "code",
   "execution_count": 9,
   "metadata": {},
   "outputs": [],
   "source": [
    "y_true = train_main_data['Class'].values\n",
    "train_main_data.Gene = train_main_data.Gene.str.replace('\\s+', '_')\n",
    "train_main_data.Variation = train_main_data.Variation.str.replace('\\s+', '_')\n",
    "\n",
    "X_train, test_df, y_train, y_test = train_test_split(train_main_data, y_true, stratify = y_true, test_size=0.2)\n",
    "\n",
    "train_df, cv_df, y_train, y_cv = train_test_split(X_train, y_train, stratify = y_train, test_size=0.2)"
   ]
  },
  {
   "cell_type": "code",
   "execution_count": 10,
   "metadata": {},
   "outputs": [
    {
     "name": "stdout",
     "output_type": "stream",
     "text": [
      "Number of data points in train data: 2124\n",
      "Number of data points in test data: 665\n",
      "Number of data points in cross validation data: 532\n"
     ]
    }
   ],
   "source": [
    "print('Number of data points in train data:', train_df.shape[0])\n",
    "print('Number of data points in test data:', test_df.shape[0])\n",
    "print('Number of data points in cross validation data:', cv_df.shape[0])"
   ]
  },
  {
   "cell_type": "markdown",
   "metadata": {},
   "source": [
    "<h3> Distribution of class label across train, validation & test datasets </h3>"
   ]
  },
  {
   "cell_type": "code",
   "execution_count": 11,
   "metadata": {},
   "outputs": [
    {
     "data": {
      "image/png": "[encoded data removed]",
      "text/plain": [
       "<Figure size 432x288 with 1 Axes>"
      ]
     },
     "metadata": {},
     "output_type": "display_data"
    },
    {
     "name": "stdout",
     "output_type": "stream",
     "text": [
      "Number of data points in class 7 : 609 ( 28.672 %)\n",
      "Number of data points in class 4 : 439 ( 20.669 %)\n",
      "Number of data points in class 1 : 363 ( 17.09 %)\n",
      "Number of data points in class 2 : 289 ( 13.606 %)\n",
      "Number of data points in class 6 : 176 ( 8.286 %)\n",
      "Number of data points in class 5 : 155 ( 7.298 %)\n",
      "Number of data points in class 3 : 57 ( 2.684 %)\n",
      "Number of data points in class 9 : 24 ( 1.13 %)\n",
      "Number of data points in class 8 : 12 ( 0.565 %)\n"
     ]
    }
   ],
   "source": [
    "# it returns a dict, keys as class labels and values as the number of data points in that class\n",
    "train_class_distribution = train_df['Class'].value_counts().sort_index()\n",
    "test_class_distribution = test_df['Class'].value_counts().sort_index()\n",
    "cv_class_distribution = cv_df['Class'].value_counts().sort_index()\n",
    "\n",
    "train_class_distribution.plot(kind = 'bar')\n",
    "plt.xlabel('Class')\n",
    "plt.ylabel('Data points per Class')\n",
    "plt.title('Distribution of target class in train data')\n",
    "plt.grid()\n",
    "plt.show()\n",
    "\n",
    "sorted_yi = np.argsort(-train_class_distribution.values)\n",
    "for i in sorted_yi:\n",
    "    print('Number of data points in class', i+1, ':',train_class_distribution.values[i], '(', np.round((train_class_distribution.values[i]/train_df.shape[0]*100), 3), '%)')"
   ]
  },
  {
   "cell_type": "code",
   "execution_count": 12,
   "metadata": {},
   "outputs": [
    {
     "data": {
      "image/png": "[encoded data removed]",
      "text/plain": [
       "<Figure size 432x288 with 1 Axes>"
      ]
     },
     "metadata": {},
     "output_type": "display_data"
    },
    {
     "name": "stdout",
     "output_type": "stream",
     "text": [
      "Number of data points in class 7 : 191 ( 28.722 %)\n",
      "Number of data points in class 4 : 137 ( 20.602 %)\n",
      "Number of data points in class 1 : 114 ( 17.143 %)\n",
      "Number of data points in class 2 : 91 ( 13.684 %)\n",
      "Number of data points in class 6 : 55 ( 8.271 %)\n",
      "Number of data points in class 5 : 48 ( 7.218 %)\n",
      "Number of data points in class 3 : 18 ( 2.707 %)\n",
      "Number of data points in class 9 : 7 ( 1.053 %)\n",
      "Number of data points in class 8 : 4 ( 0.602 %)\n"
     ]
    }
   ],
   "source": [
    "test_class_distribution.plot(kind='bar')\n",
    "plt.xlabel('Class')\n",
    "plt.ylabel('Data points per Class')\n",
    "plt.title('Distribution of target class in test data')\n",
    "plt.grid()\n",
    "plt.show()\n",
    "\n",
    "sorted_yi = np.argsort(-test_class_distribution.values)\n",
    "for i in sorted_yi:\n",
    "    print('Number of data points in class', i+1, ':',test_class_distribution.values[i], '(', np.round((test_class_distribution.values[i]/test_df.shape[0]*100), 3), '%)')"
   ]
  },
  {
   "cell_type": "code",
   "execution_count": 13,
   "metadata": {},
   "outputs": [
    {
     "data": {
      "image/png": "[encoded data removed]",
      "text/plain": [
       "<Figure size 432x288 with 1 Axes>"
      ]
     },
     "metadata": {},
     "output_type": "display_data"
    },
    {
     "name": "stdout",
     "output_type": "stream",
     "text": [
      "Number of data points in class 7 : 153 ( 28.759 %)\n",
      "Number of data points in class 4 : 110 ( 20.677 %)\n",
      "Number of data points in class 1 : 91 ( 17.105 %)\n",
      "Number of data points in class 2 : 72 ( 13.534 %)\n",
      "Number of data points in class 6 : 44 ( 8.271 %)\n",
      "Number of data points in class 5 : 39 ( 7.331 %)\n",
      "Number of data points in class 3 : 14 ( 2.632 %)\n",
      "Number of data points in class 9 : 6 ( 1.128 %)\n",
      "Number of data points in class 8 : 3 ( 0.564 %)\n"
     ]
    }
   ],
   "source": [
    "cv_class_distribution.plot(kind='bar')\n",
    "plt.xlabel('Class')\n",
    "plt.ylabel('Data points per Class')\n",
    "plt.title('Distribution of target class in cross validation data')\n",
    "plt.grid()\n",
    "plt.show()\n",
    "\n",
    "sorted_yi = np.argsort(-train_class_distribution.values)\n",
    "for i in sorted_yi:\n",
    "    print('Number of data points in class', i+1, ':',cv_class_distribution.values[i], '(', np.round((cv_class_distribution.values[i]/cv_df.shape[0]*100), 3), '%)')\n"
   ]
  },
  {
   "cell_type": "markdown",
   "metadata": {},
   "source": [
    "<h3> Prediction using random model </h3>"
   ]
  },
  {
   "cell_type": "code",
   "execution_count": 16,
   "metadata": {},
   "outputs": [
    {
     "name": "stdout",
     "output_type": "stream",
     "text": [
      "Log loss on Cross Validation Data using Random Model 2.429878055991688\n",
      "Log loss on Test Data using Random Model 2.4306818671058656\n"
     ]
    }
   ],
   "source": [
    "test_data_len = test_df.shape[0]\n",
    "cv_data_len = cv_df.shape[0]\n",
    "\n",
    "# we create a output array that has exactly same size as the CV data\n",
    "cv_predicted_y = np.zeros((cv_data_len,9))\n",
    "for i in range(cv_data_len):\n",
    "    rand_probs = np.random.rand(1,9)\n",
    "    cv_predicted_y[i] = ((rand_probs/sum(sum(rand_probs)))[0])\n",
    "print(\"Log loss on Cross Validation Data using Random Model\", log_loss(y_cv,cv_predicted_y))\n",
    "\n",
    "test_predicted_y = np.zeros((test_data_len,9))\n",
    "for i in range(test_data_len):\n",
    "    rand_probs = np.random.rand(1,9)\n",
    "    test_predicted_y[i] = ((rand_probs/sum(sum(rand_probs)))[0])\n",
    "print(\"Log loss on Test Data using Random Model\", log_loss(y_test,test_predicted_y))\n",
    "\n",
    "predicted_y = np.argmax(test_predicted_y, axis=1)"
   ]
  },
  {
   "cell_type": "markdown",
   "metadata": {},
   "source": [
    "<h3> Univariate Analysis </h3>"
   ]
  },
  {
   "cell_type": "markdown",
   "metadata": {},
   "source": [
    "<li>(numerator + 10*alpha) / (denominator + 90*alpha) </li>"
   ]
  },
  {
   "cell_type": "code",
   "execution_count": 17,
   "metadata": {},
   "outputs": [],
   "source": [
    "# code for response coding with Laplace smoothing.\n",
    "# alpha : used for laplace smoothing\n",
    "# feature: ['gene', 'variation']\n",
    "# df: ['train_df', 'test_df', 'cv_df']\n",
    "# algorithm\n",
    "# ----------\n",
    "# Consider all unique values and the number of occurances of given feature in train data dataframe\n",
    "# build a vector (1*9) , the first element = (number of times it occured in class1 + 10*alpha / number of time it occurred in total data+90*alpha)\n",
    "# gv_dict is like a look up table, for every gene it store a (1*9) representation of it\n",
    "# for a value of feature in df:\n",
    "# if it is in train data:\n",
    "# we add the vector that was stored in 'gv_dict' look up table to 'gv_fea'\n",
    "# if it is not there is train:\n",
    "# we add [1/9, 1/9, 1/9, 1/9, 1/9, 1/9, 1/9, 1/9, 1/9] to 'gv_fea'\n",
    "# return 'gv_fea'\n",
    "# ----------------------\n",
    "\n",
    "# get_gv_fea_dict: Get Gene varaition Feature Dict\n",
    "def get_gv_fea_dict(alpha, feature, df):\n",
    "    value_count = train_df[feature].value_counts()\n",
    "    \n",
    "    # gv_dict : Gene Variation Dict, which contains the probability array for each gene/variation\n",
    "    gv_dict = dict()\n",
    "    \n",
    "    # denominator will contain the number of time that particular feature occured in whole data\n",
    "    for i, denominator in value_count.items():\n",
    "        # vec will contain (p(yi==1/Gi) probability of gene/variation belongs to perticular class\n",
    "        # vec is 9 dimensional vector\n",
    "        vec = []\n",
    "        for k in range(1,10):\n",
    "            cls_cnt = train_df.loc[(train_df['Class']==k) & (train_df[feature]==i)]\n",
    "            \n",
    "            # cls_cnt.shape[0](numerator) will contain the number of time that particular feature occured in whole data\n",
    "            vec.append((cls_cnt.shape[0] + alpha*10)/ (denominator + 90*alpha))\n",
    "\n",
    "        # we are adding the gene/variation to the dict as key and vec as value\n",
    "        gv_dict[i]=vec\n",
    "    return gv_dict\n",
    "\n",
    "# Get Gene variation feature\n",
    "def get_gv_feature(alpha, feature, df):\n",
    "    gv_dict = get_gv_fea_dict(alpha, feature, df)\n",
    "    # value_count is similar in get_gv_fea_dict\n",
    "    value_count = train_df[feature].value_counts()\n",
    "    \n",
    "    # gv_fea: Gene_variation feature, it will contain the feature for each feature value in the data\n",
    "    gv_fea = []\n",
    "    # for every feature values in the given data frame we will check if it is there in the train data then we will add the feature to gv_fea\n",
    "    # if not we will add [1/9,1/9,1/9,1/9,1/9,1/9,1/9,1/9,1/9] to gv_fea\n",
    "    for index, row in df.iterrows():\n",
    "        if row[feature] in dict(value_count).keys():\n",
    "            gv_fea.append(gv_dict[row[feature]])\n",
    "        else:\n",
    "            gv_fea.append([1/9,1/9,1/9,1/9,1/9,1/9,1/9,1/9,1/9])\n",
    "    return gv_fea"
   ]
  },
  {
   "cell_type": "markdown",
   "metadata": {},
   "source": [
    "<h3>Univariate Analysis on Gene Feature</h3>"
   ]
  },
  {
   "cell_type": "markdown",
   "metadata": {},
   "source": [
    "<p>For this problem of multi-class classification with categorical features, one-hot encoding is better for Logistic regression while response coding is better for Random Forests.</p>"
   ]
  },
  {
   "cell_type": "code",
   "execution_count": 18,
   "metadata": {},
   "outputs": [
    {
     "name": "stdout",
     "output_type": "stream",
     "text": [
      "train_gene_feature_responseCoding is converted feature using respone coding method. The shape of gene feature: (2124, 9)\n"
     ]
    }
   ],
   "source": [
    "#response-coding of the Gene feature\n",
    "alpha = 1\n",
    "# train gene feature\n",
    "train_gene_feature_responseCoding = np.array(get_gv_feature(alpha, \"Gene\", train_df))\n",
    "# test gene feature\n",
    "test_gene_feature_responseCoding = np.array(get_gv_feature(alpha, \"Gene\", test_df))\n",
    "# cross validation gene feature\n",
    "cv_gene_feature_responseCoding = np.array(get_gv_feature(alpha, \"Gene\", cv_df))\n",
    "\n",
    "print(\"train_gene_feature_responseCoding is converted feature using respone coding method. The shape of gene feature:\", train_gene_feature_responseCoding.shape)"
   ]
  },
  {
   "cell_type": "code",
   "execution_count": 19,
   "metadata": {},
   "outputs": [
    {
     "name": "stdout",
     "output_type": "stream",
     "text": [
      "train_gene_feature_onehotCoding is converted feature using one-hot encoding method. The shape of gene feature: (2124, 237)\n"
     ]
    }
   ],
   "source": [
    "# one-hot encoding of Gene feature.\n",
    "gene_vectorizer = TfidfVectorizer()\n",
    "train_gene_feature_onehotCoding = gene_vectorizer.fit_transform(train_df['Gene'])\n",
    "cv_gene_feature_onehotCoding = gene_vectorizer.transform(cv_df['Gene'])\n",
    "test_gene_feature_onehotCoding = gene_vectorizer.transform(test_df['Gene'])\n",
    "\n",
    "print(\"train_gene_feature_onehotCoding is converted feature using one-hot encoding method. The shape of gene feature:\", train_gene_feature_onehotCoding.shape)"
   ]
  },
  {
   "cell_type": "code",
   "execution_count": 20,
   "metadata": {},
   "outputs": [
    {
     "name": "stdout",
     "output_type": "stream",
     "text": [
      "value of alpha =  1e-05  Log loss is: 1.435691704841452\n",
      "value of alpha =  0.0001  Log loss is: 1.2229208755725223\n",
      "value of alpha =  0.001  Log loss is: 1.2523741580968315\n",
      "value of alpha =  0.01  Log loss is: 1.3885299187076967\n",
      "value of alpha =  0.1  Log loss is: 1.4793283511489586\n",
      "value of alpha =  1  Log loss is: 1.5079693008042998\n"
     ]
    },
    {
     "data": {
      "image/png": "[encoded data removed]",
      "text/plain": [
       "<Figure size 432x288 with 1 Axes>"
      ]
     },
     "metadata": {},
     "output_type": "display_data"
    },
    {
     "name": "stdout",
     "output_type": "stream",
     "text": [
      "value of best alpha =  0.0001  Train log loss is: 1.017440909614632\n",
      "value of best alpha =  0.0001  Cross validation log loss is: 1.2229208755725223\n",
      "value of best alpha =  0.0001  Test log loss is: 1.2136981864918204\n"
     ]
    }
   ],
   "source": [
    "alpha = [10 ** x for x in range(-5, 1)] # hyperparam for SGD classifier.\n",
    "\n",
    "cv_log_error_array=[]\n",
    "for i in alpha:\n",
    "    clf = SGDClassifier(alpha=i, penalty='l2', loss='log', random_state=42)\n",
    "    clf.fit(train_gene_feature_onehotCoding, y_train)\n",
    "    sig_clf = CalibratedClassifierCV(clf, method=\"sigmoid\")\n",
    "    sig_clf.fit(train_gene_feature_onehotCoding, y_train)\n",
    "    predict_y = sig_clf.predict_proba(cv_gene_feature_onehotCoding)\n",
    "    cv_log_error_array.append(log_loss(y_cv, predict_y, labels=clf.classes_, eps=1e-15))\n",
    "    print('value of alpha = ', i, \" Log loss is:\",log_loss(y_cv, predict_y, labels=clf.classes_))\n",
    "\n",
    "fig, ax = plt.subplots()\n",
    "ax.plot(alpha, cv_log_error_array,c='g')\n",
    "for i, txt in enumerate(np.round(cv_log_error_array,3)):\n",
    "    ax.annotate((alpha[i],np.round(txt,3)), (alpha[i],cv_log_error_array[i]))\n",
    "plt.grid()\n",
    "plt.title(\"Cross Validation Error for each alpha\")\n",
    "plt.xlabel(\"Alpha i's\")\n",
    "plt.ylabel(\"Error measure\")\n",
    "plt.show()\n",
    "\n",
    "\n",
    "best_alpha = np.argmin(cv_log_error_array)\n",
    "clf = SGDClassifier(alpha=alpha[best_alpha], penalty='l2', loss='log', random_state=42)\n",
    "clf.fit(train_gene_feature_onehotCoding, y_train)\n",
    "sig_clf = CalibratedClassifierCV(clf, method=\"sigmoid\")\n",
    "sig_clf.fit(train_gene_feature_onehotCoding, y_train)\n",
    "\n",
    "predict_y = sig_clf.predict_proba(train_gene_feature_onehotCoding)\n",
    "print('value of best alpha = ', alpha[best_alpha], \" Train log loss is:\",log_loss(y_train, predict_y, labels=clf.classes_))\n",
    "predict_y = sig_clf.predict_proba(cv_gene_feature_onehotCoding)\n",
    "print('value of best alpha = ', alpha[best_alpha], \" Cross validation log loss is:\",log_loss(y_cv, predict_y, labels=clf.classes_))\n",
    "predict_y = sig_clf.predict_proba(test_gene_feature_onehotCoding)\n",
    "print('value of best alpha = ', alpha[best_alpha], \" Test log loss is:\",log_loss(y_test, predict_y, labels=clf.classes_))\n"
   ]
  },
  {
   "cell_type": "markdown",
   "metadata": {},
   "source": [
    "<p style='font-size: 15px'> From the above observation it seems like Gene Feature is stable as cv & test errors would be significantly more than train error</p>"
   ]
  },
  {
   "cell_type": "markdown",
   "metadata": {},
   "source": [
    "<h3>Univariate Analysis on Variation Feature</h3>"
   ]
  },
  {
   "cell_type": "code",
   "execution_count": 21,
   "metadata": {},
   "outputs": [
    {
     "name": "stdout",
     "output_type": "stream",
     "text": [
      "train_variation_feature_responseCoding is a converted feature using the response coding method. The shape of Variation feature: (2124, 9)\n"
     ]
    }
   ],
   "source": [
    "alpha = 1\n",
    "# train gene feature\n",
    "train_variation_feature_responseCoding = np.array(get_gv_feature(alpha, \"Variation\", train_df))\n",
    "# test gene feature\n",
    "test_variation_feature_responseCoding = np.array(get_gv_feature(alpha, \"Variation\", test_df))\n",
    "# cross validation gene feature\n",
    "cv_variation_feature_responseCoding = np.array(get_gv_feature(alpha, \"Variation\", cv_df))\n",
    "\n",
    "print(\"train_variation_feature_responseCoding is a converted feature using the response coding method. The shape of Variation feature:\", train_variation_feature_responseCoding.shape)"
   ]
  },
  {
   "cell_type": "code",
   "execution_count": 22,
   "metadata": {},
   "outputs": [
    {
     "name": "stdout",
     "output_type": "stream",
     "text": [
      "train_variation_feature_onehotEncoded is converted feature using the onne-hot encoding method. The shape of Variation feature: (2124, 1961)\n"
     ]
    }
   ],
   "source": [
    "# one-hot encoding of variation feature.\n",
    "variation_vectorizer = TfidfVectorizer()\n",
    "train_variation_feature_onehotCoding = variation_vectorizer.fit_transform(train_df['Variation'])\n",
    "test_variation_feature_onehotCoding = variation_vectorizer.transform(test_df['Variation'])\n",
    "cv_variation_feature_onehotCoding = variation_vectorizer.transform(cv_df['Variation'])\n",
    "\n",
    "print(\"train_variation_feature_onehotEncoded is converted feature using the onne-hot encoding method. The shape of Variation feature:\", train_variation_feature_onehotCoding.shape)"
   ]
  },
  {
   "cell_type": "code",
   "execution_count": 23,
   "metadata": {},
   "outputs": [
    {
     "name": "stdout",
     "output_type": "stream",
     "text": [
      "value of alpha =  1e-05  Log loss is: 1.7200419867541883\n",
      "value of alpha =  0.0001  Log loss is: 1.7048269554412037\n",
      "value of alpha =  0.001  Log loss is: 1.7033455879542632\n",
      "value of alpha =  0.01  Log loss is: 1.710974913218888\n",
      "value of alpha =  0.1  Log loss is: 1.7182398965942984\n",
      "value of alpha =  1  Log loss is: 1.7189016644549966\n"
     ]
    },
    {
     "data": {
      "image/png": "[encoded data removed]",
      "text/plain": [
       "<Figure size 432x288 with 1 Axes>"
      ]
     },
     "metadata": {},
     "output_type": "display_data"
    },
    {
     "name": "stdout",
     "output_type": "stream",
     "text": [
      "value of best alpha =  0.001 Train log loss is: 1.107709868399205\n",
      "value of best alpha =  0.001 Cross validation log loss is: 1.7033455879542632\n",
      "value of best alpha =  0.001 Test log loss is: 1.712374310623357\n"
     ]
    }
   ],
   "source": [
    "alpha = [10 ** x for x in range(-5, 1)]\n",
    "\n",
    "cv_log_error_array=[]\n",
    "for i in alpha:\n",
    "    clf = SGDClassifier(alpha=i, penalty='l2', loss='log', random_state=42)\n",
    "    clf.fit(train_variation_feature_onehotCoding, y_train)\n",
    "    \n",
    "    sig_clf = CalibratedClassifierCV(clf, method=\"sigmoid\")\n",
    "    sig_clf.fit(train_variation_feature_onehotCoding, y_train)\n",
    "    predict_y = sig_clf.predict_proba(cv_variation_feature_onehotCoding)\n",
    "    \n",
    "    cv_log_error_array.append(log_loss(y_cv, predict_y, labels=clf.classes_, eps=1e-15))\n",
    "    print('value of alpha = ', i, \" Log loss is:\",log_loss(y_cv, predict_y, labels=clf.classes_))\n",
    "\n",
    "fig, ax = plt.subplots()\n",
    "ax.plot(alpha, cv_log_error_array,c='g')\n",
    "for i, txt in enumerate(np.round(cv_log_error_array,3)):\n",
    "    ax.annotate((alpha[i],np.round(txt,3)), (alpha[i],cv_log_error_array[i]))\n",
    "plt.grid()\n",
    "plt.title(\"Cross Validation Error for each alpha\")\n",
    "plt.xlabel(\"Alpha i's\")\n",
    "plt.ylabel(\"Error measure\")\n",
    "plt.show()\n",
    "\n",
    "\n",
    "best_alpha = np.argmin(cv_log_error_array)\n",
    "clf = SGDClassifier(alpha=alpha[best_alpha], penalty='l2', loss='log', random_state=42)\n",
    "clf.fit(train_variation_feature_onehotCoding, y_train)\n",
    "sig_clf = CalibratedClassifierCV(clf, method=\"sigmoid\")\n",
    "sig_clf.fit(train_variation_feature_onehotCoding, y_train)\n",
    "\n",
    "predict_y = sig_clf.predict_proba(train_variation_feature_onehotCoding)\n",
    "print('value of best alpha = ', alpha[best_alpha], \"Train log loss is:\",log_loss(y_train, predict_y, labels=clf.classes_))\n",
    "predict_y = sig_clf.predict_proba(cv_variation_feature_onehotCoding)\n",
    "print('value of best alpha = ', alpha[best_alpha], \"Cross validation log loss is:\",log_loss(y_cv, predict_y, labels=clf.classes_))\n",
    "predict_y = sig_clf.predict_proba(test_variation_feature_onehotCoding)\n",
    "print('value of best alpha = ', alpha[best_alpha], \"Test log loss is:\",log_loss(y_test, predict_y, labels=clf.classes_))\n"
   ]
  },
  {
   "cell_type": "markdown",
   "metadata": {},
   "source": [
    "<h3>Univariate Analysis on Text Feature</h3>"
   ]
  },
  {
   "cell_type": "markdown",
   "metadata": {},
   "source": [
    "<li>How many unique words are present in train data?</li>\n",
    "<li>How are word frequencies distributed?</li>\n",
    "<li>How to featurize text field?</li>\n",
    "<li>Is the text feature useful in predicitng target label?</li>"
   ]
  },
  {
   "cell_type": "code",
   "execution_count": 24,
   "metadata": {},
   "outputs": [],
   "source": [
    "# clean_text is a data frame\n",
    "# for every row in data frame consider the 'TEXT'\n",
    "\n",
    "def extract_dictionary_paddle(clean_text):\n",
    "    dictionary = defaultdict(int)\n",
    "    for index, row in clean_text.iterrows():\n",
    "        for word in row['TEXT'].split():\n",
    "            dictionary[word] +=1\n",
    "    return dictionary"
   ]
  },
  {
   "cell_type": "code",
   "execution_count": 25,
   "metadata": {},
   "outputs": [],
   "source": [
    "import math\n",
    "\n",
    "def get_text_responsecoding(df):\n",
    "    text_feature_responseCoding = np.zeros((df.shape[0],9))\n",
    "    for i in range(0,9):\n",
    "        row_index = 0\n",
    "        for index, row in df.iterrows():\n",
    "            sum_prob = 0\n",
    "            for word in row['TEXT'].split():\n",
    "                sum_prob += math.log(((dict_list[i].get(word,0)+10)/(total_dict.get(word,0)+90)))\n",
    "            text_feature_responseCoding[row_index][i] = math.exp(sum_prob/len(row['TEXT'].split()))\n",
    "            row_index += 1\n",
    "    return text_feature_responseCoding"
   ]
  },
  {
   "cell_type": "code",
   "execution_count": 26,
   "metadata": {},
   "outputs": [
    {
     "name": "stdout",
     "output_type": "stream",
     "text": [
      "Total number of unique words in train data : 1000\n"
     ]
    }
   ],
   "source": [
    "# building a TfidfVectorizer with all the words that occured minimum 3 times in train data\n",
    "text_vectorizer = TfidfVectorizer(max_features=1000)\n",
    "train_text_feature_onehotCoding = text_vectorizer.fit_transform(train_df['TEXT'])\n",
    "# getting all the feature names (words)\n",
    "train_text_features= text_vectorizer.get_feature_names()\n",
    "\n",
    "# train_text_feature_onehotCoding.sum(axis=0).A1 will sum every row and returns (1*number of features) vector\n",
    "train_text_fea_counts = train_text_feature_onehotCoding.sum(axis=0).A1\n",
    "\n",
    "# zip(list(text_features),text_fea_counts) will zip a word with its number of times it occured\n",
    "text_fea_dict = dict(zip(list(train_text_features),train_text_fea_counts))\n",
    "\n",
    "\n",
    "print(\"Total number of unique words in train data :\", len(train_text_features))"
   ]
  },
  {
   "cell_type": "code",
   "execution_count": 27,
   "metadata": {},
   "outputs": [],
   "source": [
    "dict_list = []\n",
    "# dict_list =[] contains 9 dictoinaries each corresponds to a class\n",
    "for i in range(1,10):\n",
    "    clean_text = train_df[train_df['Class'] == i]\n",
    "    # build a word dict based on the words in that class\n",
    "    dict_list.append(extract_dictionary_paddle(clean_text))\n",
    "    # append it to dict_list\n",
    "\n",
    "# dict_list[i] is build on i'th  class text data\n",
    "# total_dict is buid on whole training text data\n",
    "total_dict = extract_dictionary_paddle(train_df)\n",
    "\n",
    "confuse_array = []\n",
    "for i in train_text_features:\n",
    "    ratios = []\n",
    "    max_val = -1\n",
    "    for j in range(0,9):\n",
    "        ratios.append((dict_list[j][i]+10 )/(total_dict[i]+90))\n",
    "    confuse_array.append(ratios)\n",
    "confuse_array = np.array(confuse_array)"
   ]
  },
  {
   "cell_type": "code",
   "execution_count": 28,
   "metadata": {},
   "outputs": [],
   "source": [
    "#response coding of text features\n",
    "train_text_feature_responseCoding  = get_text_responsecoding(train_df)\n",
    "test_text_feature_responseCoding  = get_text_responsecoding(test_df)\n",
    "cv_text_feature_responseCoding  = get_text_responsecoding(cv_df)"
   ]
  },
  {
   "cell_type": "code",
   "execution_count": 29,
   "metadata": {},
   "outputs": [],
   "source": [
    "# we convert each row values such that they sum to 1  \n",
    "train_text_feature_responseCoding = (train_text_feature_responseCoding.T/train_text_feature_responseCoding.sum(axis=1)).T\n",
    "test_text_feature_responseCoding = (test_text_feature_responseCoding.T/test_text_feature_responseCoding.sum(axis=1)).T\n",
    "cv_text_feature_responseCoding = (cv_text_feature_responseCoding.T/cv_text_feature_responseCoding.sum(axis=1)).T"
   ]
  },
  {
   "cell_type": "code",
   "execution_count": 30,
   "metadata": {},
   "outputs": [],
   "source": [
    "# normalize every feature\n",
    "train_text_feature_onehotCoding = normalize(train_text_feature_onehotCoding, axis=0)\n",
    "\n",
    "# we use the same vectorizer that was trained on train data\n",
    "test_text_feature_onehotCoding = text_vectorizer.transform(test_df['TEXT'])\n",
    "test_text_feature_onehotCoding = normalize(test_text_feature_onehotCoding, axis=0)\n",
    "\n",
    "# we use the same vectorizer that was trained on train data\n",
    "cv_text_feature_onehotCoding = text_vectorizer.transform(cv_df['TEXT'])\n",
    "cv_text_feature_onehotCoding = normalize(cv_text_feature_onehotCoding, axis=0)"
   ]
  },
  {
   "cell_type": "code",
   "execution_count": 31,
   "metadata": {},
   "outputs": [],
   "source": [
    "sorted_text_fea_dict = dict(sorted(text_fea_dict.items(), key=lambda x: x[1] , reverse=True))\n",
    "sorted_text_occur = np.array(list(sorted_text_fea_dict.values()))"
   ]
  },
  {
   "cell_type": "code",
   "execution_count": 32,
   "metadata": {},
   "outputs": [
    {
     "name": "stdout",
     "output_type": "stream",
     "text": [
      "value of alpha =  1e-05 Log loss is: 1.2050395223985402\n",
      "value of alpha =  0.0001 Log loss is: 1.2169371512333491\n",
      "value of alpha =  0.001 Log loss is: 1.4629239497252784\n",
      "value of alpha =  0.01 Log loss is: 1.9165154520494503\n",
      "value of alpha =  0.1 Log loss is: 2.0461671312241996\n",
      "value of alpha =  1 Log loss is: 2.033502905478185\n"
     ]
    },
    {
     "data": {
      "image/png": "[encoded data removed]",
      "text/plain": [
       "<Figure size 432x288 with 1 Axes>"
      ]
     },
     "metadata": {},
     "output_type": "display_data"
    },
    {
     "name": "stdout",
     "output_type": "stream",
     "text": [
      "value of best alpha =  1e-05 Train log loss is: 0.7690350438670795\n",
      "value of best alpha =  1e-05 Cross validation log loss is: 1.2050395223985402\n",
      "value of best alpha =  1e-05 Test log loss is: 1.147670466243412\n"
     ]
    }
   ],
   "source": [
    "# Train a Logistic regression+Calibration model using text features which are one-hot encoded\n",
    "alpha = [10 ** x for x in range(-5, 1)]\n",
    "\n",
    "cv_log_error_array=[]\n",
    "for i in alpha:\n",
    "    clf = SGDClassifier(alpha=i, penalty='l2', loss='log', random_state=42)\n",
    "    clf.fit(train_text_feature_onehotCoding, y_train)\n",
    "    \n",
    "    sig_clf = CalibratedClassifierCV(clf, method=\"sigmoid\")\n",
    "    sig_clf.fit(train_text_feature_onehotCoding, y_train)\n",
    "    predict_y = sig_clf.predict_proba(cv_text_feature_onehotCoding)\n",
    "    cv_log_error_array.append(log_loss(y_cv, predict_y, labels=clf.classes_, eps=1e-15))\n",
    "    print('value of alpha = ', i, \"Log loss is:\",log_loss(y_cv, predict_y, labels=clf.classes_, eps=1e-15))\n",
    "\n",
    "fig, ax = plt.subplots()\n",
    "ax.plot(alpha, cv_log_error_array,c='g')\n",
    "for i, txt in enumerate(np.round(cv_log_error_array,3)):\n",
    "    ax.annotate((alpha[i],np.round(txt,3)), (alpha[i],cv_log_error_array[i]))\n",
    "plt.grid()\n",
    "plt.title(\"Cross Validation Error for each alpha\")\n",
    "plt.xlabel(\"Alpha i's\")\n",
    "plt.ylabel(\"Error measure\")\n",
    "plt.show()\n",
    "\n",
    "\n",
    "best_alpha = np.argmin(cv_log_error_array)\n",
    "clf = SGDClassifier(alpha=alpha[best_alpha], penalty='l2', loss='log', random_state=42)\n",
    "clf.fit(train_text_feature_onehotCoding, y_train)\n",
    "sig_clf = CalibratedClassifierCV(clf, method=\"sigmoid\")\n",
    "sig_clf.fit(train_text_feature_onehotCoding, y_train)\n",
    "\n",
    "predict_y = sig_clf.predict_proba(train_text_feature_onehotCoding)\n",
    "print('value of best alpha = ', alpha[best_alpha], \"Train log loss is:\",log_loss(y_train, predict_y, labels=clf.classes_))\n",
    "predict_y = sig_clf.predict_proba(cv_text_feature_onehotCoding)\n",
    "print('value of best alpha = ', alpha[best_alpha], \"Cross validation log loss is:\",log_loss(y_cv, predict_y, labels=clf.classes_))\n",
    "predict_y = sig_clf.predict_proba(test_text_feature_onehotCoding)\n",
    "print('value of best alpha = ', alpha[best_alpha], \"Test log loss is:\",log_loss(y_test, predict_y, labels=clf.classes_))\n"
   ]
  },
  {
   "cell_type": "markdown",
   "metadata": {},
   "source": [
    "<h1>Machine Learning Models</h1>"
   ]
  },
  {
   "cell_type": "code",
   "execution_count": 33,
   "metadata": {},
   "outputs": [],
   "source": [
    "def predict(train_x, train_y,test_x, test_y, clf):\n",
    "    clf.fit(train_x, train_y)\n",
    "    sig_clf = CalibratedClassifierCV(clf, method=\"sigmoid\")\n",
    "    sig_clf.fit(train_x, train_y)\n",
    "    pred_y = sig_clf.predict(test_x)\n",
    "\n",
    "    # for calculating log_loss we willl provide the array of probabilities belongs to each class\n",
    "    print(\"Log loss :\",log_loss(test_y, sig_clf.predict_proba(test_x)))\n",
    "    # calculating the number of data points that are misclassified\n",
    "    print(\"Number of mis-classified points :\", np.count_nonzero((pred_y- test_y))/test_y.shape[0])"
   ]
  },
  {
   "cell_type": "code",
   "execution_count": 34,
   "metadata": {},
   "outputs": [],
   "source": [
    "def report_log_loss(train_x, train_y, test_x, test_y,  clf):\n",
    "    clf.fit(train_x, train_y)\n",
    "    sig_clf = CalibratedClassifierCV(clf, method=\"sigmoid\")\n",
    "    sig_clf.fit(train_x, train_y)\n",
    "    sig_clf_probs = sig_clf.predict_proba(test_x)\n",
    "    return log_loss(test_y, sig_clf_probs)"
   ]
  },
  {
   "cell_type": "code",
   "execution_count": 35,
   "metadata": {},
   "outputs": [],
   "source": [
    "# Merging gene, variance and text features\n",
    "\n",
    "train_gene_var_onehotCoding = hstack((train_gene_feature_onehotCoding,train_variation_feature_onehotCoding))\n",
    "test_gene_var_onehotCoding = hstack((test_gene_feature_onehotCoding,test_variation_feature_onehotCoding))\n",
    "cv_gene_var_onehotCoding = hstack((cv_gene_feature_onehotCoding,cv_variation_feature_onehotCoding))\n",
    "\n",
    "train_x_onehotCoding = hstack((train_gene_var_onehotCoding, train_text_feature_onehotCoding)).tocsr()\n",
    "train_y = np.array(list(train_df['Class']))\n",
    "\n",
    "test_x_onehotCoding = hstack((test_gene_var_onehotCoding, test_text_feature_onehotCoding)).tocsr()\n",
    "test_y = np.array(list(test_df['Class']))\n",
    "\n",
    "cv_x_onehotCoding = hstack((cv_gene_var_onehotCoding, cv_text_feature_onehotCoding)).tocsr()\n",
    "cv_y = np.array(list(cv_df['Class']))\n",
    "\n",
    "train_gene_var_responseCoding = np.hstack((train_gene_feature_responseCoding,train_variation_feature_responseCoding))\n",
    "test_gene_var_responseCoding = np.hstack((test_gene_feature_responseCoding,test_variation_feature_responseCoding))\n",
    "cv_gene_var_responseCoding = np.hstack((cv_gene_feature_responseCoding,cv_variation_feature_responseCoding))\n",
    "\n",
    "train_x_responseCoding = np.hstack((train_gene_var_responseCoding, train_text_feature_responseCoding))\n",
    "test_x_responseCoding = np.hstack((test_gene_var_responseCoding, test_text_feature_responseCoding))\n",
    "cv_x_responseCoding = np.hstack((cv_gene_var_responseCoding, cv_text_feature_responseCoding))\n"
   ]
  },
  {
   "cell_type": "code",
   "execution_count": 36,
   "metadata": {},
   "outputs": [
    {
     "name": "stdout",
     "output_type": "stream",
     "text": [
      "One hot encoding features :\n",
      "(number of data points * number of features) in train data =  (2124, 3198)\n",
      "(number of data points * number of features) in test data =  (665, 3198)\n",
      "(number of data points * number of features) in cross validation data = (532, 3198)\n"
     ]
    }
   ],
   "source": [
    "print(\"One hot encoding features :\")\n",
    "print(\"(number of data points * number of features) in train data = \", train_x_onehotCoding.shape)\n",
    "print(\"(number of data points * number of features) in test data = \", test_x_onehotCoding.shape)\n",
    "print(\"(number of data points * number of features) in cross validation data =\", cv_x_onehotCoding.shape)"
   ]
  },
  {
   "cell_type": "code",
   "execution_count": 37,
   "metadata": {},
   "outputs": [
    {
     "name": "stdout",
     "output_type": "stream",
     "text": [
      " Response encoding features :\n",
      "(number of data points * number of features) in train data =  (2124, 27)\n",
      "(number of data points * number of features) in test data =  (665, 27)\n",
      "(number of data points * number of features) in cross validation data = (532, 27)\n"
     ]
    }
   ],
   "source": [
    "print(\" Response encoding features :\")\n",
    "print(\"(number of data points * number of features) in train data = \", train_x_responseCoding.shape)\n",
    "print(\"(number of data points * number of features) in test data = \", test_x_responseCoding.shape)\n",
    "print(\"(number of data points * number of features) in cross validation data =\", cv_x_responseCoding.shape)"
   ]
  },
  {
   "cell_type": "markdown",
   "metadata": {},
   "source": [
    "<h1>Base Line Model</h1>"
   ]
  },
  {
   "cell_type": "markdown",
   "metadata": {},
   "source": [
    "<h3>Naive Bayes</h3>"
   ]
  },
  {
   "cell_type": "code",
   "execution_count": 38,
   "metadata": {},
   "outputs": [
    {
     "name": "stdout",
     "output_type": "stream",
     "text": [
      "for alpha = 1e-05\n",
      "Log Loss : 1.2377187922750663\n",
      "for alpha = 0.0001\n",
      "Log Loss : 1.2354394272242741\n",
      "for alpha = 0.001\n",
      "Log Loss : 1.232808731088096\n",
      "for alpha = 0.1\n",
      "Log Loss : 1.231651736327617\n",
      "for alpha = 1\n",
      "Log Loss : 1.3033352418491828\n",
      "for alpha = 10\n",
      "Log Loss : 1.5246481980933357\n",
      "for alpha = 100\n",
      "Log Loss : 1.49372008633776\n",
      "for alpha = 1000\n",
      "Log Loss : 1.4820255542500183\n"
     ]
    },
    {
     "data": {
      "image/png": "[encoded data removed]",
      "text/plain": [
       "<Figure size 432x288 with 1 Axes>"
      ]
     },
     "metadata": {},
     "output_type": "display_data"
    },
    {
     "name": "stdout",
     "output_type": "stream",
     "text": [
      "value of best alpha =  0.1 Train log loss is: 0.6055178530765103\n",
      "value of best alpha =  0.1 Cross validation log loss is: 1.231651736327617\n",
      "value of best alpha =  0.1 Test log loss is: 1.2507694594003127\n"
     ]
    }
   ],
   "source": [
    "alpha = [0.00001, 0.0001, 0.001, 0.1, 1, 10, 100,1000]\n",
    "cv_log_error_array = []\n",
    "for i in alpha:\n",
    "    print(\"for alpha =\", i)\n",
    "    clf = MultinomialNB(alpha=i)\n",
    "    clf.fit(train_x_onehotCoding, train_y)\n",
    "    sig_clf = CalibratedClassifierCV(clf, method=\"sigmoid\")\n",
    "    sig_clf.fit(train_x_onehotCoding, train_y)\n",
    "    sig_clf_probs = sig_clf.predict_proba(cv_x_onehotCoding)\n",
    "    cv_log_error_array.append(log_loss(cv_y, sig_clf_probs, labels=clf.classes_))\n",
    "    # to avoid rounding error while multiplying probabilites we use log-probability estimates\n",
    "    print(\"Log Loss :\",log_loss(cv_y, sig_clf_probs)) \n",
    "\n",
    "fig, ax = plt.subplots()\n",
    "ax.plot(np.log10(alpha), cv_log_error_array,c='g')\n",
    "for i, txt in enumerate(np.round(cv_log_error_array,3)):\n",
    "    ax.annotate((alpha[i],str(txt)), (np.log10(alpha[i]),cv_log_error_array[i]))\n",
    "plt.grid()\n",
    "plt.xticks(np.log10(alpha))\n",
    "plt.title(\"Cross Validation Error for each alpha\")\n",
    "plt.xlabel(\"Alpha i's\")\n",
    "plt.ylabel(\"Error measure\")\n",
    "plt.show()\n",
    "\n",
    "\n",
    "best_alpha = np.argmin(cv_log_error_array)\n",
    "clf = MultinomialNB(alpha=alpha[best_alpha])\n",
    "clf.fit(train_x_onehotCoding, train_y)\n",
    "sig_clf = CalibratedClassifierCV(clf, method=\"sigmoid\")\n",
    "sig_clf.fit(train_x_onehotCoding, train_y)\n",
    "\n",
    "\n",
    "predict_y = sig_clf.predict_proba(train_x_onehotCoding)\n",
    "print('value of best alpha = ', alpha[best_alpha], \"Train log loss is:\", log_loss(y_train, predict_y, labels=clf.classes_))\n",
    "predict_y = sig_clf.predict_proba(cv_x_onehotCoding)\n",
    "print('value of best alpha = ', alpha[best_alpha], \"Cross validation log loss is:\", log_loss(y_cv, predict_y, labels=clf.classes_))\n",
    "predict_y = sig_clf.predict_proba(test_x_onehotCoding)\n",
    "print('value of best alpha = ', alpha[best_alpha], \"Test log loss is:\", log_loss(y_test, predict_y, labels=clf.classes_))"
   ]
  },
  {
   "cell_type": "markdown",
   "metadata": {},
   "source": [
    "<p style=\"font-size: 15px\"> Testing model with best Hyper parameters </p>"
   ]
  },
  {
   "cell_type": "code",
   "execution_count": 39,
   "metadata": {},
   "outputs": [
    {
     "name": "stdout",
     "output_type": "stream",
     "text": [
      "Log Loss : 1.231651736327617\n",
      "Number of missclassified point : 0.40037593984962405\n"
     ]
    }
   ],
   "source": [
    "clf = MultinomialNB(alpha=alpha[best_alpha])\n",
    "clf.fit(train_x_onehotCoding, train_y)\n",
    "sig_clf = CalibratedClassifierCV(clf, method=\"sigmoid\")\n",
    "sig_clf.fit(train_x_onehotCoding, train_y)\n",
    "sig_clf_probs = sig_clf.predict_proba(cv_x_onehotCoding)\n",
    "print(\"Log Loss :\",log_loss(cv_y, sig_clf_probs))\n",
    "print(\"Number of missclassified point :\", np.count_nonzero((sig_clf.predict(cv_x_onehotCoding)- cv_y))/cv_y.shape[0])"
   ]
  },
  {
   "cell_type": "markdown",
   "metadata": {},
   "source": [
    "<p style=\"font-size: 15px\">Feature importance with correctly classified points</p>"
   ]
  },
  {
   "cell_type": "code",
   "execution_count": 53,
   "metadata": {},
   "outputs": [
    {
     "name": "stdout",
     "output_type": "stream",
     "text": [
      "Predicted Class : 7\n",
      "Predicted Class Probabilities: [[0.0683 0.1419 0.0143 0.0867 0.0228 0.0614 0.5975 0.0042 0.0029]]\n",
      "Actual Class : 2\n",
      "--------------------------------------------------\n"
     ]
    }
   ],
   "source": [
    "test_point_index = 1\n",
    "no_feature = 100\n",
    "predicted_cls = sig_clf.predict(test_x_onehotCoding[test_point_index])\n",
    "print(\"Predicted Class :\", predicted_cls[0])\n",
    "print(\"Predicted Class Probabilities:\", np.round(sig_clf.predict_proba(test_x_onehotCoding[test_point_index]),4))\n",
    "print(\"Actual Class :\", test_y[test_point_index])\n",
    "indices = np.argsort(-clf.coef_)[predicted_cls-1][:,:no_feature]\n",
    "print(\"-\"*50)"
   ]
  },
  {
   "cell_type": "markdown",
   "metadata": {},
   "source": [
    "<h1>K Nearest Neighbour Classification</h1>"
   ]
  },
  {
   "cell_type": "markdown",
   "metadata": {},
   "source": [
    "<h3>Hyper parameter tuning</h3>"
   ]
  },
  {
   "cell_type": "code",
   "execution_count": 40,
   "metadata": {},
   "outputs": [
    {
     "name": "stdout",
     "output_type": "stream",
     "text": [
      "for alpha = 5\n",
      "Log Loss : 1.0704957376042612\n",
      "for alpha = 11\n",
      "Log Loss : 1.0512171307600002\n",
      "for alpha = 15\n",
      "Log Loss : 1.056276444219369\n",
      "for alpha = 21\n",
      "Log Loss : 1.0745908906488733\n",
      "for alpha = 31\n",
      "Log Loss : 1.074014152759019\n",
      "for alpha = 41\n",
      "Log Loss : 1.092309623729382\n",
      "for alpha = 51\n",
      "Log Loss : 1.099111330276348\n",
      "for alpha = 99\n",
      "Log Loss : 1.1174169667336606\n"
     ]
    },
    {
     "data": {
      "image/png": "[encoded data removed]",
      "text/plain": [
       "<Figure size 432x288 with 1 Axes>"
      ]
     },
     "metadata": {},
     "output_type": "display_data"
    },
    {
     "name": "stdout",
     "output_type": "stream",
     "text": [
      "value of best alpha =  11 Train log loss is: 0.6411287747657692\n",
      "value of best alpha =  11 Cross validation log loss is: 1.0512171307600002\n",
      "value of best alpha =  11 Test log loss is: 0.9936269263973168\n"
     ]
    }
   ],
   "source": [
    "alpha = [5, 11, 15, 21, 31, 41, 51, 99]\n",
    "cv_log_error_array = []\n",
    "for i in alpha:\n",
    "    print(\"for alpha =\", i)\n",
    "    clf = KNeighborsClassifier(n_neighbors=i)\n",
    "    clf.fit(train_x_responseCoding, train_y)\n",
    "    sig_clf = CalibratedClassifierCV(clf, method=\"sigmoid\")\n",
    "    sig_clf.fit(train_x_responseCoding, train_y)\n",
    "    sig_clf_probs = sig_clf.predict_proba(cv_x_responseCoding)\n",
    "    cv_log_error_array.append(log_loss(cv_y, sig_clf_probs, labels=clf.classes_))\n",
    "    # to avoid rounding error while multiplying probabilites we use log-probability estimates\n",
    "    print(\"Log Loss :\",log_loss(cv_y, sig_clf_probs)) \n",
    "\n",
    "fig, ax = plt.subplots()\n",
    "ax.plot(alpha, cv_log_error_array,c='g')\n",
    "for i, txt in enumerate(np.round(cv_log_error_array,3)):\n",
    "    ax.annotate((alpha[i],str(txt)), (alpha[i],cv_log_error_array[i]))\n",
    "plt.grid()\n",
    "plt.title(\"Cross Validation Error for each alpha\")\n",
    "plt.xlabel(\"Alpha i's\")\n",
    "plt.ylabel(\"Error measure\")\n",
    "plt.show()\n",
    "\n",
    "\n",
    "best_alpha = np.argmin(cv_log_error_array)\n",
    "clf = KNeighborsClassifier(n_neighbors=alpha[best_alpha])\n",
    "clf.fit(train_x_responseCoding, train_y)\n",
    "sig_clf = CalibratedClassifierCV(clf, method=\"sigmoid\")\n",
    "sig_clf.fit(train_x_responseCoding, train_y)\n",
    "\n",
    "predict_y = sig_clf.predict_proba(train_x_responseCoding)\n",
    "print('value of best alpha = ', alpha[best_alpha], \"Train log loss is:\",log_loss(y_train, predict_y, labels=clf.classes_))\n",
    "predict_y = sig_clf.predict_proba(cv_x_responseCoding)\n",
    "print('value of best alpha = ', alpha[best_alpha], \"Cross validation log loss is:\",log_loss(y_cv, predict_y, labels=clf.classes_))\n",
    "predict_y = sig_clf.predict_proba(test_x_responseCoding)\n",
    "print('value of best alpha = ', alpha[best_alpha], \"Test log loss is:\",log_loss(y_test, predict_y, labels=clf.classes_))\n"
   ]
  },
  {
   "cell_type": "code",
   "execution_count": 41,
   "metadata": {},
   "outputs": [
    {
     "name": "stdout",
     "output_type": "stream",
     "text": [
      "Log loss : 1.0512171307600002\n",
      "Number of mis-classified points : 0.37030075187969924\n"
     ]
    }
   ],
   "source": [
    "clf = KNeighborsClassifier(n_neighbors=alpha[best_alpha])\n",
    "predict(train_x_responseCoding, train_y, cv_x_responseCoding, cv_y, clf)"
   ]
  },
  {
   "cell_type": "code",
   "execution_count": 42,
   "metadata": {},
   "outputs": [
    {
     "name": "stdout",
     "output_type": "stream",
     "text": [
      "Predicted Class : 2\n",
      "Actual Class : 7\n",
      "The  11  nearest neighbours of the test points belongs to classes [7 7 7 2 2 7 7 7 7 7 7]\n",
      "Fequency of nearest points : Counter({7: 9, 2: 2})\n"
     ]
    }
   ],
   "source": [
    "clf = KNeighborsClassifier(n_neighbors=alpha[best_alpha])\n",
    "clf.fit(train_x_responseCoding, train_y)\n",
    "sig_clf = CalibratedClassifierCV(clf, method=\"sigmoid\")\n",
    "sig_clf.fit(train_x_responseCoding, train_y)\n",
    "\n",
    "test_point_index = 1\n",
    "predicted_cls = sig_clf.predict(test_x_responseCoding[0].reshape(1,-1))\n",
    "print(\"Predicted Class :\", predicted_cls[0])\n",
    "print(\"Actual Class :\", test_y[test_point_index])\n",
    "neighbors = clf.kneighbors(test_x_responseCoding[test_point_index].reshape(1, -1), alpha[best_alpha])\n",
    "print(\"The \",alpha[best_alpha],\" nearest neighbours of the test points belongs to classes\",train_y[neighbors[1][0]])\n",
    "print(\"Fequency of nearest points :\",Counter(train_y[neighbors[1][0]]))"
   ]
  },
  {
   "cell_type": "code",
   "execution_count": 44,
   "metadata": {},
   "outputs": [
    {
     "name": "stdout",
     "output_type": "stream",
     "text": [
      "Predicted Class : 2\n",
      "Actual Class : 2\n",
      "the k value for knn is 11 and the nearest neighbours of the test points belongs to classes [2 2 2 2 2 7 2 2 2 2 2]\n",
      "Fequency of nearest points : Counter({2: 10, 7: 1})\n"
     ]
    }
   ],
   "source": [
    "clf = KNeighborsClassifier(n_neighbors=alpha[best_alpha])\n",
    "clf.fit(train_x_responseCoding, train_y)\n",
    "sig_clf = CalibratedClassifierCV(clf, method=\"sigmoid\")\n",
    "sig_clf.fit(train_x_responseCoding, train_y)\n",
    "\n",
    "test_point_index = 100\n",
    "\n",
    "predicted_cls = sig_clf.predict(test_x_responseCoding[test_point_index].reshape(1,-1))\n",
    "print(\"Predicted Class :\", predicted_cls[0])\n",
    "print(\"Actual Class :\", test_y[test_point_index])\n",
    "neighbors = clf.kneighbors(test_x_responseCoding[test_point_index].reshape(1, -1), alpha[best_alpha])\n",
    "print(\"the k value for knn is\",alpha[best_alpha],\"and the nearest neighbours of the test points belongs to classes\",train_y[neighbors[1][0]])\n",
    "print(\"Fequency of nearest points :\",Counter(train_y[neighbors[1][0]]))"
   ]
  },
  {
   "cell_type": "markdown",
   "metadata": {},
   "source": [
    "<h1>Logistic Regression with Class Balancing</h1>"
   ]
  },
  {
   "cell_type": "code",
   "execution_count": 45,
   "metadata": {},
   "outputs": [
    {
     "name": "stdout",
     "output_type": "stream",
     "text": [
      "for alpha = 1e-06\n",
      "Log Loss : 1.1845014208326132\n",
      "for alpha = 1e-05\n",
      "Log Loss : 1.129257627474964\n",
      "for alpha = 0.0001\n",
      "Log Loss : 1.0656763815159958\n",
      "for alpha = 0.001\n",
      "Log Loss : 1.0989818523311503\n",
      "for alpha = 0.01\n",
      "Log Loss : 1.2844219223045803\n",
      "for alpha = 0.1\n",
      "Log Loss : 1.6919008481729776\n",
      "for alpha = 1\n",
      "Log Loss : 1.8219633852777009\n",
      "for alpha = 10\n",
      "Log Loss : 1.8358799956833465\n",
      "for alpha = 100\n",
      "Log Loss : 1.8373991178994429\n"
     ]
    },
    {
     "data": {
      "image/png": "[encoded data removed]",
      "text/plain": [
       "<Figure size 432x288 with 1 Axes>"
      ]
     },
     "metadata": {},
     "output_type": "display_data"
    },
    {
     "name": "stdout",
     "output_type": "stream",
     "text": [
      "value of best alpha =  0.0001 Train log loss is: 0.434416300963407\n",
      "value of best alpha =  0.0001 Cross validation log loss is: 1.0656763815159958\n",
      "value of best alpha =  0.0001 Test log loss is: 1.0047286537912987\n"
     ]
    }
   ],
   "source": [
    "alpha = [10 ** x for x in range(-6, 3)]\n",
    "cv_log_error_array = []\n",
    "for i in alpha:\n",
    "    print(\"for alpha =\", i)\n",
    "    clf = SGDClassifier(class_weight='balanced', alpha=i, penalty='l2', loss='log', random_state=42)\n",
    "    clf.fit(train_x_onehotCoding, train_y)\n",
    "    sig_clf = CalibratedClassifierCV(clf, method=\"sigmoid\")\n",
    "    sig_clf.fit(train_x_onehotCoding, train_y)\n",
    "    sig_clf_probs = sig_clf.predict_proba(cv_x_onehotCoding)\n",
    "    cv_log_error_array.append(log_loss(cv_y, sig_clf_probs, labels=clf.classes_))\n",
    "    # to avoid rounding error while multiplying probabilites we use log-probability estimates\n",
    "    print(\"Log Loss :\",log_loss(cv_y, sig_clf_probs)) \n",
    "\n",
    "fig, ax = plt.subplots()\n",
    "ax.plot(alpha, cv_log_error_array,c='g')\n",
    "for i, txt in enumerate(np.round(cv_log_error_array,3)):\n",
    "    ax.annotate((alpha[i],str(txt)), (alpha[i],cv_log_error_array[i]))\n",
    "plt.grid()\n",
    "plt.title(\"Cross Validation Error for each alpha\")\n",
    "plt.xlabel(\"Alpha i's\")\n",
    "plt.ylabel(\"Error measure\")\n",
    "plt.show()\n",
    "\n",
    "\n",
    "best_alpha = np.argmin(cv_log_error_array)\n",
    "clf = SGDClassifier(class_weight='balanced', alpha=alpha[best_alpha], penalty='l2', loss='log', random_state=42)\n",
    "clf.fit(train_x_onehotCoding, train_y)\n",
    "sig_clf = CalibratedClassifierCV(clf, method=\"sigmoid\")\n",
    "sig_clf.fit(train_x_onehotCoding, train_y)\n",
    "\n",
    "predict_y = sig_clf.predict_proba(train_x_onehotCoding)\n",
    "print('value of best alpha = ', alpha[best_alpha], \"Train log loss is:\",log_loss(y_train, predict_y, labels=clf.classes_))\n",
    "predict_y = sig_clf.predict_proba(cv_x_onehotCoding)\n",
    "print('value of best alpha = ', alpha[best_alpha], \"Cross validation log loss is:\",log_loss(y_cv, predict_y, labels=clf.classes_))\n",
    "predict_y = sig_clf.predict_proba(test_x_onehotCoding)\n",
    "print('value of best alpha = ', alpha[best_alpha], \"Test log loss is:\",log_loss(y_test, predict_y, labels=clf.classes_))"
   ]
  },
  {
   "cell_type": "code",
   "execution_count": 46,
   "metadata": {},
   "outputs": [
    {
     "name": "stdout",
     "output_type": "stream",
     "text": [
      "Log loss : 1.0656763815159958\n",
      "Number of mis-classified points : 0.3533834586466165\n"
     ]
    }
   ],
   "source": [
    "clf = SGDClassifier(class_weight='balanced', alpha=alpha[best_alpha], penalty='l2', loss='log', random_state=42)\n",
    "predict(train_x_onehotCoding, train_y, cv_x_onehotCoding, cv_y, clf)"
   ]
  },
  {
   "cell_type": "markdown",
   "metadata": {},
   "source": [
    "<h3>Feature Importance</h3>"
   ]
  },
  {
   "cell_type": "code",
   "execution_count": 47,
   "metadata": {},
   "outputs": [],
   "source": [
    "def get_imp_feature_names(text, indices, removed_ind = []):\n",
    "    word_present = 0\n",
    "    tabulte_list = []\n",
    "    increasingorder_ind = 0\n",
    "    for i in indices:\n",
    "        if i < train_gene_feature_onehotCoding.shape[1]:\n",
    "            tabulte_list.append([increasingorder_ind, \"Gene\", \"Yes\"])\n",
    "        elif i< 18:\n",
    "            tabulte_list.append([increasingorder_ind,\"Variation\", \"Yes\"])\n",
    "        if ((i > 17) & (i not in removed_ind)) :\n",
    "            word = train_text_features[i]\n",
    "            yes_no = True if word in text.split() else False\n",
    "            if yes_no:\n",
    "                word_present += 1\n",
    "            tabulte_list.append([increasingorder_ind,train_text_features[i], yes_no])\n",
    "        increasingorder_ind += 1\n",
    "    print(word_present, \"most importent features are present in our query point\")\n",
    "    print(\"-\"*50)\n",
    "    print(\"The features that are most importent of the \",predicted_cls[0],\" class:\")\n",
    "    print (tabulate(tabulte_list, headers=[\"Index\",'Feature name', 'Present or Not']))"
   ]
  },
  {
   "cell_type": "markdown",
   "metadata": {},
   "source": [
    "<p>Correctly Classified Points</p>"
   ]
  },
  {
   "cell_type": "code",
   "execution_count": 48,
   "metadata": {},
   "outputs": [
    {
     "name": "stdout",
     "output_type": "stream",
     "text": [
      "Predicted Class : 7\n",
      "Predicted Class Probabilities: [[0.0155 0.1228 0.0022 0.0087 0.0268 0.0214 0.7968 0.0046 0.0012]]\n",
      "Actual Class : 7\n",
      "--------------------------------------------------\n"
     ]
    }
   ],
   "source": [
    "clf = SGDClassifier(class_weight='balanced', alpha=alpha[best_alpha], penalty='l2', loss='log', random_state=42)\n",
    "clf.fit(train_x_onehotCoding,train_y)\n",
    "test_point_index = 1\n",
    "no_feature = 500\n",
    "predicted_cls = sig_clf.predict(test_x_onehotCoding[test_point_index])\n",
    "print(\"Predicted Class :\", predicted_cls[0])\n",
    "print(\"Predicted Class Probabilities:\", np.round(sig_clf.predict_proba(test_x_onehotCoding[test_point_index]),4))\n",
    "print(\"Actual Class :\", test_y[test_point_index])\n",
    "indices = np.argsort(-clf.coef_)[predicted_cls-1][:,:no_feature]\n",
    "print(\"-\"*50)"
   ]
  },
  {
   "cell_type": "markdown",
   "metadata": {},
   "source": [
    "<h1>Logistic Regression without Class Balancing</h1>"
   ]
  },
  {
   "cell_type": "code",
   "execution_count": 49,
   "metadata": {},
   "outputs": [
    {
     "name": "stdout",
     "output_type": "stream",
     "text": [
      "for alpha = 1e-06\n",
      "Log Loss : 1.2169620910779064\n",
      "for alpha = 1e-05\n",
      "Log Loss : 1.2036407034809025\n",
      "for alpha = 0.0001\n",
      "Log Loss : 1.074977806443453\n",
      "for alpha = 0.001\n",
      "Log Loss : 1.1486388865729547\n",
      "for alpha = 0.01\n",
      "Log Loss : 1.384204373146339\n",
      "for alpha = 0.1\n",
      "Log Loss : 1.6908431920780396\n",
      "for alpha = 1\n",
      "Log Loss : 1.8026580065014648\n"
     ]
    },
    {
     "data": {
      "image/png": "[encoded data removed]",
      "text/plain": [
       "<Figure size 432x288 with 1 Axes>"
      ]
     },
     "metadata": {},
     "output_type": "display_data"
    },
    {
     "name": "stdout",
     "output_type": "stream",
     "text": [
      "values of best alpha =  0.0001 Train log loss is: 0.42711714774539083\n",
      "values of best alpha =  0.0001 Cross validation log loss is: 1.074977806443453\n",
      "values of best alpha =  0.0001 Test log loss is: 1.0165185632015032\n"
     ]
    }
   ],
   "source": [
    "alpha = [10 ** x for x in range(-6, 1)]\n",
    "cv_log_error_array = []\n",
    "for i in alpha:\n",
    "    print(\"for alpha =\", i)\n",
    "    clf = SGDClassifier(alpha=i, penalty='l2', loss='log', random_state=42)\n",
    "    clf.fit(train_x_onehotCoding, train_y)\n",
    "    sig_clf = CalibratedClassifierCV(clf, method=\"sigmoid\")\n",
    "    sig_clf.fit(train_x_onehotCoding, train_y)\n",
    "    sig_clf_probs = sig_clf.predict_proba(cv_x_onehotCoding)\n",
    "    cv_log_error_array.append(log_loss(cv_y, sig_clf_probs, labels=clf.classes_))\n",
    "    print(\"Log Loss :\",log_loss(cv_y, sig_clf_probs)) \n",
    "\n",
    "fig, ax = plt.subplots()\n",
    "ax.plot(alpha, cv_log_error_array,c='g')\n",
    "for i, txt in enumerate(np.round(cv_log_error_array,3)):\n",
    "    ax.annotate((alpha[i],str(txt)), (alpha[i],cv_log_error_array[i]))\n",
    "plt.grid()\n",
    "plt.title(\"Cross Validation Error for each alpha\")\n",
    "plt.xlabel(\"Alpha i's\")\n",
    "plt.ylabel(\"Error measure\")\n",
    "plt.show()\n",
    "\n",
    "\n",
    "best_alpha = np.argmin(cv_log_error_array)\n",
    "clf = SGDClassifier(alpha=alpha[best_alpha], penalty='l2', loss='log', random_state=42)\n",
    "clf.fit(train_x_onehotCoding, train_y)\n",
    "sig_clf = CalibratedClassifierCV(clf, method=\"sigmoid\")\n",
    "sig_clf.fit(train_x_onehotCoding, train_y)\n",
    "\n",
    "predict_y = sig_clf.predict_proba(train_x_onehotCoding)\n",
    "print('values of best alpha = ', alpha[best_alpha], \"Train log loss is:\",log_loss(y_train, predict_y, labels=clf.classes_))\n",
    "predict_y = sig_clf.predict_proba(cv_x_onehotCoding)\n",
    "print('values of best alpha = ', alpha[best_alpha], \"Cross validation log loss is:\",log_loss(y_cv, predict_y, labels=clf.classes_))\n",
    "predict_y = sig_clf.predict_proba(test_x_onehotCoding)\n",
    "print('values of best alpha = ', alpha[best_alpha], \"Test log loss is:\",log_loss(y_test, predict_y, labels=clf.classes_))"
   ]
  },
  {
   "cell_type": "code",
   "execution_count": 50,
   "metadata": {},
   "outputs": [
    {
     "name": "stdout",
     "output_type": "stream",
     "text": [
      "Log loss : 1.074977806443453\n",
      "Number of mis-classified points : 0.35150375939849626\n"
     ]
    }
   ],
   "source": [
    "clf = SGDClassifier(alpha=alpha[best_alpha], penalty='l2', loss='log', random_state=42)\n",
    "predict(train_x_onehotCoding, train_y, cv_x_onehotCoding, cv_y, clf)"
   ]
  },
  {
   "cell_type": "code",
   "execution_count": 51,
   "metadata": {},
   "outputs": [
    {
     "name": "stdout",
     "output_type": "stream",
     "text": [
      "Predicted Class : 7\n",
      "Predicted Class Probabilities: [[1.620e-02 1.154e-01 2.500e-03 8.600e-03 2.460e-02 2.040e-02 8.088e-01\n",
      "  3.300e-03 2.000e-04]]\n",
      "Actual Class : 7\n",
      "--------------------------------------------------\n"
     ]
    }
   ],
   "source": [
    "clf = SGDClassifier(alpha=alpha[best_alpha], penalty='l2', loss='log', random_state=42)\n",
    "clf.fit(train_x_onehotCoding,train_y)\n",
    "test_point_index = 1\n",
    "no_feature = 500\n",
    "predicted_cls = sig_clf.predict(test_x_onehotCoding[test_point_index])\n",
    "print(\"Predicted Class :\", predicted_cls[0])\n",
    "print(\"Predicted Class Probabilities:\", np.round(sig_clf.predict_proba(test_x_onehotCoding[test_point_index]),4))\n",
    "print(\"Actual Class :\", test_y[test_point_index])\n",
    "indices = np.argsort(-clf.coef_)[predicted_cls-1][:,:no_feature]\n",
    "print(\"-\"*50)"
   ]
  },
  {
   "cell_type": "code",
   "execution_count": 52,
   "metadata": {},
   "outputs": [
    {
     "name": "stdout",
     "output_type": "stream",
     "text": [
      "Predicted Class : 2\n",
      "Predicted Class Probabilities: [[4.400e-03 9.351e-01 1.300e-03 3.500e-03 9.400e-03 1.020e-02 3.300e-02\n",
      "  2.800e-03 3.000e-04]]\n",
      "Actual Class : 2\n",
      "--------------------------------------------------\n"
     ]
    }
   ],
   "source": [
    "test_point_index = 100\n",
    "no_feature = 500\n",
    "predicted_cls = sig_clf.predict(test_x_onehotCoding[test_point_index])\n",
    "print(\"Predicted Class :\", predicted_cls[0])\n",
    "print(\"Predicted Class Probabilities:\", np.round(sig_clf.predict_proba(test_x_onehotCoding[test_point_index]),4))\n",
    "print(\"Actual Class :\", test_y[test_point_index])\n",
    "indices = np.argsort(-clf.coef_)[predicted_cls-1][:,:no_feature]\n",
    "print(\"-\"*50)"
   ]
  },
  {
   "cell_type": "markdown",
   "metadata": {},
   "source": [
    "<h1>Support Vector Machine</h1>"
   ]
  },
  {
   "cell_type": "code",
   "execution_count": 53,
   "metadata": {},
   "outputs": [
    {
     "name": "stdout",
     "output_type": "stream",
     "text": [
      "for C = 1e-05\n",
      "Log Loss : 1.1571874359867182\n",
      "for C = 0.0001\n",
      "Log Loss : 1.1030028256999778\n",
      "for C = 0.001\n",
      "Log Loss : 1.1260065136077304\n",
      "for C = 0.01\n",
      "Log Loss : 1.3614951363174506\n",
      "for C = 0.1\n",
      "Log Loss : 1.7383113898853553\n",
      "for C = 1\n",
      "Log Loss : 1.837704540814888\n",
      "for C = 10\n",
      "Log Loss : 1.8377045534521272\n",
      "for C = 100\n",
      "Log Loss : 1.8377046114815385\n"
     ]
    },
    {
     "data": {
      "image/png": "[encoded data removed]",
      "text/plain": [
       "<Figure size 432x288 with 1 Axes>"
      ]
     },
     "metadata": {},
     "output_type": "display_data"
    },
    {
     "name": "stdout",
     "output_type": "stream",
     "text": [
      "values of best alpha =  0.0001 Train log loss is: 0.4921498267143857\n",
      "values of best alpha =  0.0001 Cross validation log loss is: 1.1030028256999778\n",
      "values of best alpha =  0.0001 Test log loss is: 1.06144601929291\n"
     ]
    }
   ],
   "source": [
    "alpha = [10 ** x for x in range(-5, 3)]\n",
    "cv_log_error_array = []\n",
    "for i in alpha:\n",
    "    print(\"for C =\", i)\n",
    "    clf = SGDClassifier( class_weight='balanced', alpha=i, penalty='l2', loss='hinge', random_state=42)\n",
    "    clf.fit(train_x_onehotCoding, train_y)\n",
    "    sig_clf = CalibratedClassifierCV(clf, method=\"sigmoid\")\n",
    "    sig_clf.fit(train_x_onehotCoding, train_y)\n",
    "    sig_clf_probs = sig_clf.predict_proba(cv_x_onehotCoding)\n",
    "    cv_log_error_array.append(log_loss(cv_y, sig_clf_probs, labels=clf.classes_, eps=1e-15))\n",
    "    print(\"Log Loss :\",log_loss(cv_y, sig_clf_probs)) \n",
    "\n",
    "fig, ax = plt.subplots()\n",
    "ax.plot(alpha, cv_log_error_array,c='g')\n",
    "for i, txt in enumerate(np.round(cv_log_error_array,3)):\n",
    "    ax.annotate((alpha[i],str(txt)), (alpha[i],cv_log_error_array[i]))\n",
    "plt.grid()\n",
    "plt.title(\"Cross Validation Error for each alpha\")\n",
    "plt.xlabel(\"Alpha i's\")\n",
    "plt.ylabel(\"Error measure\")\n",
    "plt.show()\n",
    "\n",
    "\n",
    "best_alpha = np.argmin(cv_log_error_array)\n",
    "clf = SGDClassifier(class_weight='balanced', alpha=alpha[best_alpha], penalty='l2', loss='hinge', random_state=42)\n",
    "clf.fit(train_x_onehotCoding, train_y)\n",
    "sig_clf = CalibratedClassifierCV(clf, method=\"sigmoid\")\n",
    "sig_clf.fit(train_x_onehotCoding, train_y)\n",
    "\n",
    "predict_y = sig_clf.predict_proba(train_x_onehotCoding)\n",
    "print('values of best alpha = ', alpha[best_alpha], \"Train log loss is:\",log_loss(y_train, predict_y, labels=clf.classes_))\n",
    "predict_y = sig_clf.predict_proba(cv_x_onehotCoding)\n",
    "print('values of best alpha = ', alpha[best_alpha], \"Cross validation log loss is:\",log_loss(y_cv, predict_y, labels=clf.classes_))\n",
    "predict_y = sig_clf.predict_proba(test_x_onehotCoding)\n",
    "print('values of best alpha = ', alpha[best_alpha], \"Test log loss is:\",log_loss(y_test, predict_y, labels=clf.classes_))"
   ]
  },
  {
   "cell_type": "code",
   "execution_count": 54,
   "metadata": {},
   "outputs": [
    {
     "name": "stdout",
     "output_type": "stream",
     "text": [
      "Log loss : 1.1030028256999778\n",
      "Number of mis-classified points : 0.37406015037593987\n"
     ]
    }
   ],
   "source": [
    "clf = SGDClassifier(alpha=alpha[best_alpha], penalty='l2', loss='hinge', random_state=42,class_weight='balanced')\n",
    "predict(train_x_onehotCoding, train_y,cv_x_onehotCoding,cv_y, clf)"
   ]
  },
  {
   "cell_type": "markdown",
   "metadata": {},
   "source": [
    "<h1>Random Forest Classifier</h1>"
   ]
  },
  {
   "cell_type": "code",
   "execution_count": 55,
   "metadata": {
    "scrolled": true
   },
   "outputs": [
    {
     "name": "stdout",
     "output_type": "stream",
     "text": [
      "for n_estimators = 10 and max depth =  2\n",
      "Log Loss : 2.1551445059758136\n",
      "for n_estimators = 10 and max depth =  3\n",
      "Log Loss : 1.8263284864494433\n",
      "for n_estimators = 10 and max depth =  5\n",
      "Log Loss : 1.5756795927825002\n",
      "for n_estimators = 10 and max depth =  10\n",
      "Log Loss : 2.12287405049164\n",
      "for n_estimators = 50 and max depth =  2\n",
      "Log Loss : 1.7518148140141754\n",
      "for n_estimators = 50 and max depth =  3\n",
      "Log Loss : 1.5335350985364753\n",
      "for n_estimators = 50 and max depth =  5\n",
      "Log Loss : 1.6027990105736878\n",
      "for n_estimators = 50 and max depth =  10\n",
      "Log Loss : 1.8857969232543599\n",
      "for n_estimators = 100 and max depth =  2\n",
      "Log Loss : 1.6533476542535064\n",
      "for n_estimators = 100 and max depth =  3\n",
      "Log Loss : 1.5371889480624876\n",
      "for n_estimators = 100 and max depth =  5\n",
      "Log Loss : 1.4930317862873834\n",
      "for n_estimators = 100 and max depth =  10\n",
      "Log Loss : 1.7728194944053761\n",
      "for n_estimators = 200 and max depth =  2\n",
      "Log Loss : 1.6611017929620673\n",
      "for n_estimators = 200 and max depth =  3\n",
      "Log Loss : 1.516518612686551\n",
      "for n_estimators = 200 and max depth =  5\n",
      "Log Loss : 1.4567691747455682\n",
      "for n_estimators = 200 and max depth =  10\n",
      "Log Loss : 1.7323202450734825\n",
      "for n_estimators = 500 and max depth =  2\n",
      "Log Loss : 1.7347772086702333\n",
      "for n_estimators = 500 and max depth =  3\n",
      "Log Loss : 1.5743424272184576\n",
      "for n_estimators = 500 and max depth =  5\n",
      "Log Loss : 1.4105289927702593\n",
      "for n_estimators = 500 and max depth =  10\n",
      "Log Loss : 1.7922051142727864\n",
      "for n_estimators = 1000 and max depth =  2\n",
      "Log Loss : 1.7004222751966789\n",
      "for n_estimators = 1000 and max depth =  3\n",
      "Log Loss : 1.5904789620722066\n",
      "for n_estimators = 1000 and max depth =  5\n",
      "Log Loss : 1.380541676189472\n",
      "for n_estimators = 1000 and max depth =  10\n",
      "Log Loss : 1.7551553827831443\n",
      "values of best alpha =  1000 Train log loss is: 0.049862378601279775\n",
      "values of best alpha =  1000 Cross validation log loss is: 1.3805416761894722\n",
      "values of best alpha =  1000 Test log loss is: 1.362432550964256\n"
     ]
    }
   ],
   "source": [
    "alpha = [10,50,100,200,500,1000]\n",
    "max_depth = [2,3,5,10]\n",
    "cv_log_error_array = []\n",
    "for i in alpha:\n",
    "    for j in max_depth:\n",
    "        print(\"for n_estimators =\", i,\"and max depth = \", j)\n",
    "        clf = RandomForestClassifier(n_estimators=i, criterion='gini', max_depth=j, random_state=42, n_jobs=-1)\n",
    "        clf.fit(train_x_responseCoding, train_y)\n",
    "        sig_clf = CalibratedClassifierCV(clf, method=\"sigmoid\")\n",
    "        sig_clf.fit(train_x_responseCoding, train_y)\n",
    "        sig_clf_probs = sig_clf.predict_proba(cv_x_responseCoding)\n",
    "        cv_log_error_array.append(log_loss(cv_y, sig_clf_probs, labels=clf.classes_))\n",
    "        print(\"Log Loss :\",log_loss(cv_y, sig_clf_probs)) \n",
    "\n",
    "best_alpha = np.argmin(cv_log_error_array)\n",
    "clf = RandomForestClassifier(n_estimators=alpha[int(best_alpha/4)], criterion='gini', max_depth=max_depth[int(best_alpha%4)], random_state=42, n_jobs=-1)\n",
    "clf.fit(train_x_responseCoding, train_y)\n",
    "sig_clf = CalibratedClassifierCV(clf, method=\"sigmoid\")\n",
    "sig_clf.fit(train_x_responseCoding, train_y)\n",
    "\n",
    "predict_y = sig_clf.predict_proba(train_x_responseCoding)\n",
    "print('values of best alpha = ', alpha[int(best_alpha/4)], \"Train log loss is:\",log_loss(y_train, predict_y, labels=clf.classes_))\n",
    "predict_y = sig_clf.predict_proba(cv_x_responseCoding)\n",
    "print('values of best alpha = ', alpha[int(best_alpha/4)], \"Cross validation log loss is:\",log_loss(y_cv, predict_y, labels=clf.classes_))\n",
    "predict_y = sig_clf.predict_proba(test_x_responseCoding)\n",
    "print('values of best alpha = ', alpha[int(best_alpha/4)], \"Test log loss is:\",log_loss(y_test, predict_y, labels=clf.classes_))"
   ]
  },
  {
   "cell_type": "code",
   "execution_count": 57,
   "metadata": {},
   "outputs": [
    {
     "name": "stdout",
     "output_type": "stream",
     "text": [
      "Log loss : 1.3805416761894722\n",
      "Number of mis-classified points : 0.5131578947368421\n"
     ]
    }
   ],
   "source": [
    "clf = RandomForestClassifier(max_depth=max_depth[int(best_alpha%4)], n_estimators=alpha[int(best_alpha/4)], criterion='gini', max_features='auto',random_state=42)\n",
    "predict(train_x_responseCoding, train_y,cv_x_responseCoding,cv_y, clf)"
   ]
  },
  {
   "cell_type": "code",
   "execution_count": 64,
   "metadata": {},
   "outputs": [
    {
     "name": "stdout",
     "output_type": "stream",
     "text": [
      "Predicted Class : 2\n",
      "Predicted Class Probabilities: [[0.0112 0.4086 0.1676 0.0194 0.0295 0.0385 0.2779 0.0355 0.0117]]\n",
      "Actual Class : 7\n",
      "--------------------------------------------------\n",
      "Variation is important feature\n",
      "Variation is important feature\n",
      "Variation is important feature\n",
      "Variation is important feature\n",
      "Variation is important feature\n",
      "Gene is important feature\n",
      "Variation is important feature\n",
      "Text is important feature\n",
      "Text is important feature\n",
      "Gene is important feature\n",
      "Text is important feature\n",
      "Text is important feature\n",
      "Text is important feature\n",
      "Gene is important feature\n",
      "Gene is important feature\n",
      "Variation is important feature\n",
      "Text is important feature\n",
      "Gene is important feature\n",
      "Gene is important feature\n",
      "Variation is important feature\n",
      "Variation is important feature\n",
      "Text is important feature\n",
      "Text is important feature\n",
      "Gene is important feature\n",
      "Gene is important feature\n",
      "Text is important feature\n",
      "Gene is important feature\n"
     ]
    }
   ],
   "source": [
    "clf = RandomForestClassifier(n_estimators=alpha[int(best_alpha/4)], criterion='gini', max_depth=max_depth[int(best_alpha%4)], random_state=42, n_jobs=-1)\n",
    "clf.fit(train_x_responseCoding, train_y)\n",
    "sig_clf = CalibratedClassifierCV(clf, method=\"sigmoid\")\n",
    "sig_clf.fit(train_x_responseCoding, train_y)\n",
    "\n",
    "test_point_index = 1\n",
    "no_feature = 100\n",
    "predicted_cls = sig_clf.predict(test_x_responseCoding[test_point_index].reshape(1,-1))\n",
    "print(\"Predicted Class :\", predicted_cls[0])\n",
    "print(\"Predicted Class Probabilities:\", np.round(sig_clf.predict_proba(test_x_responseCoding[test_point_index].reshape(1,-1)),4))\n",
    "print(\"Actual Class :\", test_y[test_point_index])\n",
    "indices = np.argsort(-clf.feature_importances_)\n",
    "print(\"-\"*50)\n",
    "for i in indices:\n",
    "    if i<9:\n",
    "        print(\"Gene is important feature\")\n",
    "    elif i<18:\n",
    "        print(\"Variation is important feature\")\n",
    "    else:\n",
    "        print(\"Text is important feature\")"
   ]
  },
  {
   "cell_type": "markdown",
   "metadata": {},
   "source": [
    "<h1>Conclusion</h1>"
   ]
  },
  {
   "cell_type": "markdown",
   "metadata": {},
   "source": [
    "* Logistic Regression with class balance gives the best Log Loss of 1.06"
   ]
  },
  {
   "cell_type": "code",
   "execution_count": null,
   "metadata": {},
   "outputs": [],
   "source": []
  }
 ],
 "metadata": {
  "kernelspec": {
   "display_name": "Python 3",
   "language": "python",
   "name": "python3"
  },
  "language_info": {
   "codemirror_mode": {
    "name": "ipython",
    "version": 3
   },
   "file_extension": ".py",
   "mimetype": "text/x-python",
   "name": "python",
   "nbconvert_exporter": "python",
   "pygments_lexer": "ipython3",
   "version": "3.5.2"
  },
  "latex_envs": {
   "LaTeX_envs_menu_present": true,
   "autoclose": false,
   "autocomplete": true,
   "bibliofile": "biblio.bib",
   "cite_by": "apalike",
   "current_citInitial": 1,
   "eqLabelWithNumbers": true,
   "eqNumInitial": 1,
   "hotkeys": {
    "equation": "Ctrl-E",
    "itemize": "Ctrl-I"
   },
   "labels_anchors": false,
   "latex_user_defs": false,
   "report_style_numbering": false,
   "user_envs_cfg": false
  }
 },
 "nbformat": 4,
 "nbformat_minor": 2
}
